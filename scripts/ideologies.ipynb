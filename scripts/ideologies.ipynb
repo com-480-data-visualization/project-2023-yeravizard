{
 "cells": [
  {
   "attachments": {},
   "cell_type": "markdown",
   "metadata": {},
   "source": [
    "<h2><center><b><i>Cluster bomb</b></i>: Uncovering Patterns in Terrorist Group Beliefs and Attacks</center></h2>\n",
    "\n",
    "#### **COM-480: Data Visualization**\n",
    "\n",
    "**Team**: Alexander Sternfeld, Silvia Romanato & Antoine Bonnet\n",
    "\n",
    "**Dataset**: [Global Terrorism Database (GTD)](https://www.start.umd.edu/gtd/) \n",
    "\n",
    "**Additional dataset**: [Profiles of Perpetrators of Terrorism in the United States (PPTUS)](https://dataverse.harvard.edu/dataset.xhtml?persistentId=hdl%3A1902.1/17702)\n",
    "\n",
    "## **Terrorist ideologies**"
   ]
  },
  {
   "cell_type": "code",
   "execution_count": 9,
   "metadata": {},
   "outputs": [
    {
     "name": "stdout",
     "output_type": "stream",
     "text": [
      "GTD pickle file found, loading...\n",
      "PPTUS pickle files found, loading...\n"
     ]
    }
   ],
   "source": [
    "import os\n",
    "import json\n",
    "import pandas as pd\n",
    "import numpy as np\n",
    "import matplotlib.pyplot as plt\n",
    "import seaborn as sns\n",
    "import plotly.express as px\n",
    "\n",
    "from load_data import *\n",
    "\n",
    "pd.set_option('display.max_columns', None)\n",
    "\n",
    "GTD = load_GTD()\n",
    "PPTUS_data, PPTUS_sources = load_PPTUS()"
   ]
  },
  {
   "attachments": {},
   "cell_type": "markdown",
   "metadata": {},
   "source": [
    "### **Data preparation for stacked area charts**\n",
    "\n",
    "We would like to create the following plot using D3.js: \n",
    "\n",
    "<p align=\"center\">\n",
    "  <img src=\"../plots/sketches/SketchArea.jpeg\" \n",
    "  style=\"width: 500px; \"/>\n",
    "</p>\n",
    "\n",
    "To do so, we prepare the data from both PPT-US and GTD datasets. We will create one data file with the annual number of attacks per main ideology. We will also create one data file per main ideology, with the annual number of attacks per sub-ideology. The user will scroll between each plot seamlessly. \n",
    "\n",
    "**Ideology labels**: Here are the categorical labels for each ideology and sub-ideology in the PPT-US, taken from the official Codebook: "
   ]
  },
  {
   "cell_type": "code",
   "execution_count": 37,
   "metadata": {},
   "outputs": [],
   "source": [
    "# Labels for dominant ideologies\n",
    "DOM_labels = {\n",
    "    'I_ETHNO': 'Ethno-nationalist',\n",
    "    'I_REL': 'Religious',\n",
    "    'I_RACE': 'Racist', \n",
    "    'I_LEFT': 'Extreme left',\n",
    "    'I_RIGHT': 'Extreme right',\n",
    "    'I_SI': 'Single issue',\n",
    "}\n",
    "\n",
    "# Labels for sub-ideologies\n",
    "REL_labels = {'I_REL_1': 'Buddhist', 'I_REL_2': 'Christian/Catholic', 'I_REL_3': 'Cult', 'I_REL_4': 'Hindu', 'I_REL_5': 'Islamic (Sunni)', 'I_REL_6': 'Islamic (Shia)', 'I_REL_7': 'Jewish & Jewish Orthodox', 'I_REL_8': 'Sikh', 'I_REL_9': 'Pagan/Polytheist', 'I_REL_10': 'Occult/Satanist'}\n",
    "RACE_labels = {'I_RACE_1': 'Anti-Semitic', 'I_RACE_2': 'Xenophobic/Nativist/Anti-Immigrant', 'I_RACE_3': 'Racial Supremacist/Racial Separatist'}\n",
    "LEFT_labels = {'I_LEFT_1': 'Communist/Socialist', 'I_LEFT_2': 'Anarchists', 'I_LEFT_3': 'Marxist/Leninist', 'I_LEFT_4': 'Maoist', 'I_LEFT_5': 'Black Nationalist (US, Europe)', 'I_LEFT_6': 'New Left'}\n",
    "RIGHT_labels = {'I_RIGHT_1': 'Anti-Semitic', 'I_RIGHT_2': 'Fascist/Neo-Fascist', 'I_RIGHT_3': 'Gun Rights', 'I_RIGHT_4': 'Tax Protest'}\n",
    "SI_labels = {'I_SI_1': 'Anti-Abortion', 'I_SI_2': 'Anti-Catholic', 'I_SI_3': 'Anti-Communist', 'I_SI_4': 'Anti-Ecology/Pro-Development', 'I_SI_5': 'Anti-Homosexual/Anti-Sexual Deviance/Anti-Prostitution', 'I_SI_6': 'Anti-Nuclear', 'I_SI_7': 'Anti-Racist', 'I_SI_8': 'Anti-Religious', 'I_SI_9': 'Gun Rights', 'I_SI_10': 'Xenophobic/Nativist/Anti-Immigrant', 'I_SI_11': 'Tax Protest', 'I_SI_12': 'Anti-Castro', 'I_SI_13': 'Ecological/Anti-Technology/Primitivist/Animal Liberation', 'I_SI_14': '\"Pacifist\"/Anti-War'}\n",
    "\n",
    "subIdeologies_pairs = {\n",
    "    'Ethno-nationalist': {}, \n",
    "    'Religious': REL_labels,\n",
    "    'Racist': RACE_labels, \n",
    "    'Extreme left': LEFT_labels,\n",
    "    'Extreme right': RIGHT_labels,\n",
    "    'Single issue': SI_labels\n",
    "}"
   ]
  },
  {
   "attachments": {},
   "cell_type": "markdown",
   "metadata": {},
   "source": [
    "For all attacks perpetrated by organizations in the PPT-US, we merge terrorist attack data and group data. "
   ]
  },
  {
   "cell_type": "code",
   "execution_count": 38,
   "metadata": {},
   "outputs": [
    {
     "name": "stdout",
     "output_type": "stream",
     "text": [
      "Original number of attacks in GTD:  214666\n",
      "Number of attacks for which we know the organization ideology in GTD:  7131\n"
     ]
    }
   ],
   "source": [
    "# Merge PPTUS and GTD \n",
    "print('Original number of attacks in GTD: ', GTD.shape[0])\n",
    "df = PPTUS_data.merge(GTD, left_on='ORGNAME', right_on='gname', how= 'inner')\n",
    "print('Number of attacks for which we know the organization ideology in GTD: ', df.shape[0])\n"
   ]
  },
  {
   "cell_type": "code",
   "execution_count": 39,
   "metadata": {},
   "outputs": [],
   "source": [
    "# Rename the dominant_ideology row from the number to the ideology name in the df dataframe\n",
    "df['DOM_I'] = df['DOM_I'].replace(\n",
    "    {1: 'Extreme right', \n",
    "     2: 'Extreme left', \n",
    "     3: 'Religious', \n",
    "     4: 'Ethno-nationalist', \n",
    "     5: 'Single issue', \n",
    "     -99: 'Uncertain'})\n",
    "\n",
    "ethno_col = df.columns[df.columns.str.startswith('I_ETHNO') & ~df.columns.str.endswith('CI') & ~df.columns.str.endswith('SOURCE') & ~df.columns.str.endswith('I_ETHNO')]\n",
    "rel_col = df.columns[df.columns.str.startswith('I_REL') & ~df.columns.str.endswith('CI') & ~df.columns.str.endswith('SOURCE') & ~df.columns.str.endswith('I_REL')]\n",
    "race_col = df.columns[df.columns.str.startswith('I_RACE') & ~df.columns.str.endswith('CI') & ~df.columns.str.endswith('SOURCE') & ~df.columns.str.endswith('I_RACE')]\n",
    "left_col = df.columns[df.columns.str.startswith('I_LEFT') & ~df.columns.str.endswith('CI') & ~df.columns.str.endswith('SOURCE') & ~df.columns.str.endswith('I_LEFT')]\n",
    "right_col = df.columns[df.columns.str.startswith('I_RIGHT') & ~df.columns.str.endswith('CI') & ~df.columns.str.endswith('SOURCE') & ~df.columns.str.endswith('I_RIGHT')]\n",
    "si_col = df.columns[df.columns.str.startswith('I_SI') & ~df.columns.str.endswith('CI') & ~df.columns.str.endswith('SOURCE') & ~df.columns.str.endswith('I_SI')]\n"
   ]
  },
  {
   "cell_type": "code",
   "execution_count": null,
   "metadata": {},
   "outputs": [],
   "source": []
  },
  {
   "cell_type": "code",
   "execution_count": 41,
   "metadata": {},
   "outputs": [],
   "source": [
    "# Create a column of Ideologies \n",
    "df['Ideologies'] = df.apply(lambda row: [DOM_labels[ideology_ID] for ideology_ID in DOM_labels.keys() if row[ideology_ID] == 1], axis=1)\n",
    "\n",
    "# Create a column 'Sub-ideologies' that contains a list of sub-ideologies for which the corresponding I_TERMS is 1\n",
    "df['Sub-ideologies'] = df.apply(lambda row: [REL_labels[sub_ideology] for sub_ideology in REL_labels.keys() if row[sub_ideology] == 1 and row['I_REL'] == 1] +\n",
    "                                          [RACE_labels[sub_ideology] for sub_ideology in RACE_labels.keys() if row[sub_ideology] == 1 and row['I_RACE'] == 1] +\n",
    "                                          [LEFT_labels[sub_ideology] for sub_ideology in LEFT_labels.keys() if row[sub_ideology] == 1 and row['I_LEFT'] == 1] +\n",
    "                                          [RIGHT_labels[sub_ideology] for sub_ideology in RIGHT_labels.keys() if row[sub_ideology] == 1 and row['I_RIGHT'] == 1] +\n",
    "                                          [SI_labels[sub_ideology] for sub_ideology in SI_labels.keys() if row[sub_ideology] == 1 and row['I_SI'] == 1],\n",
    "                               axis=1)"
   ]
  },
  {
   "cell_type": "code",
   "execution_count": 74,
   "metadata": {},
   "outputs": [
    {
     "data": {
      "text/plain": [
       "0                                   [Communist/Socialist]\n",
       "1                                       [Islamic (Sunni)]\n",
       "2                                       [Islamic (Sunni)]\n",
       "3                                       [Islamic (Sunni)]\n",
       "4                                       [Islamic (Sunni)]\n",
       "                              ...                        \n",
       "7126    [Communist/Socialist, Marxist/Leninist, Maoist...\n",
       "7127    [Communist/Socialist, Marxist/Leninist, Maoist...\n",
       "7128                                        [Anti-Castro]\n",
       "7129                                        [Anti-Castro]\n",
       "7130                                                   []\n",
       "Name: Sub-ideologies, Length: 7131, dtype: object"
      ]
     },
     "execution_count": 74,
     "metadata": {},
     "output_type": "execute_result"
    }
   ],
   "source": [
    "df['Sub-ideologies']"
   ]
  },
  {
   "cell_type": "code",
   "execution_count": 36,
   "metadata": {},
   "outputs": [
    {
     "ename": "TypeError",
     "evalue": "object of type 'NoneType' has no len()",
     "output_type": "error",
     "traceback": [
      "\u001b[0;31m---------------------------------------------------------------------------\u001b[0m",
      "\u001b[0;31mTypeError\u001b[0m                                 Traceback (most recent call last)",
      "Cell \u001b[0;32mIn[36], line 1\u001b[0m\n\u001b[0;32m----> 1\u001b[0m df[\u001b[39m'\u001b[39m\u001b[39mSub-ideologies\u001b[39m\u001b[39m'\u001b[39m] \u001b[39m=\u001b[39m df[\u001b[39m'\u001b[39;49m\u001b[39mSub-ideologies\u001b[39;49m\u001b[39m'\u001b[39;49m]\u001b[39m.\u001b[39;49mapply(\u001b[39mlambda\u001b[39;49;00m x: x[\u001b[39m0\u001b[39;49m] \u001b[39mif\u001b[39;49;00m \u001b[39mlen\u001b[39;49m(x) \u001b[39m>\u001b[39;49m \u001b[39m0\u001b[39;49m \u001b[39melse\u001b[39;49;00m \u001b[39mNone\u001b[39;49;00m)\n\u001b[1;32m      3\u001b[0m \u001b[39m# Keep only columns ORGNAME, DOM_I \u001b[39;00m\n\u001b[1;32m      4\u001b[0m \u001b[39m#df = df[['iyear', 'ORGNAME', 'DOM_I', 'Ideologies', 'Sub-ideologies']].reset_index(drop=True)\u001b[39;00m\n\u001b[1;32m      5\u001b[0m \n\u001b[1;32m      6\u001b[0m \u001b[39m# Format column names\u001b[39;00m\n\u001b[1;32m      7\u001b[0m df\u001b[39m.\u001b[39mrename(columns\u001b[39m=\u001b[39m{\u001b[39m'\u001b[39m\u001b[39mDOM_I\u001b[39m\u001b[39m'\u001b[39m: \u001b[39m'\u001b[39m\u001b[39mDominant ideology\u001b[39m\u001b[39m'\u001b[39m, \u001b[39m'\u001b[39m\u001b[39mORGNAME\u001b[39m\u001b[39m'\u001b[39m: \u001b[39m'\u001b[39m\u001b[39mTerrorist group\u001b[39m\u001b[39m'\u001b[39m, \u001b[39m'\u001b[39m\u001b[39miyear\u001b[39m\u001b[39m'\u001b[39m: \u001b[39m'\u001b[39m\u001b[39mYear\u001b[39m\u001b[39m'\u001b[39m}, inplace\u001b[39m=\u001b[39m\u001b[39mTrue\u001b[39;00m)\n",
      "File \u001b[0;32m~/.conda/envs/silviasenv/lib/python3.9/site-packages/pandas/core/series.py:4626\u001b[0m, in \u001b[0;36mSeries.apply\u001b[0;34m(self, func, convert_dtype, args, **kwargs)\u001b[0m\n\u001b[1;32m   4516\u001b[0m \u001b[39mdef\u001b[39;00m \u001b[39mapply\u001b[39m(\n\u001b[1;32m   4517\u001b[0m     \u001b[39mself\u001b[39m,\n\u001b[1;32m   4518\u001b[0m     func: AggFuncType,\n\u001b[0;32m   (...)\u001b[0m\n\u001b[1;32m   4521\u001b[0m     \u001b[39m*\u001b[39m\u001b[39m*\u001b[39mkwargs,\n\u001b[1;32m   4522\u001b[0m ) \u001b[39m-\u001b[39m\u001b[39m>\u001b[39m DataFrame \u001b[39m|\u001b[39m Series:\n\u001b[1;32m   4523\u001b[0m \u001b[39m    \u001b[39m\u001b[39m\"\"\"\u001b[39;00m\n\u001b[1;32m   4524\u001b[0m \u001b[39m    Invoke function on values of Series.\u001b[39;00m\n\u001b[1;32m   4525\u001b[0m \n\u001b[0;32m   (...)\u001b[0m\n\u001b[1;32m   4624\u001b[0m \u001b[39m    dtype: float64\u001b[39;00m\n\u001b[1;32m   4625\u001b[0m \u001b[39m    \"\"\"\u001b[39;00m\n\u001b[0;32m-> 4626\u001b[0m     \u001b[39mreturn\u001b[39;00m SeriesApply(\u001b[39mself\u001b[39;49m, func, convert_dtype, args, kwargs)\u001b[39m.\u001b[39;49mapply()\n",
      "File \u001b[0;32m~/.conda/envs/silviasenv/lib/python3.9/site-packages/pandas/core/apply.py:1025\u001b[0m, in \u001b[0;36mSeriesApply.apply\u001b[0;34m(self)\u001b[0m\n\u001b[1;32m   1022\u001b[0m     \u001b[39mreturn\u001b[39;00m \u001b[39mself\u001b[39m\u001b[39m.\u001b[39mapply_str()\n\u001b[1;32m   1024\u001b[0m \u001b[39m# self.f is Callable\u001b[39;00m\n\u001b[0;32m-> 1025\u001b[0m \u001b[39mreturn\u001b[39;00m \u001b[39mself\u001b[39;49m\u001b[39m.\u001b[39;49mapply_standard()\n",
      "File \u001b[0;32m~/.conda/envs/silviasenv/lib/python3.9/site-packages/pandas/core/apply.py:1076\u001b[0m, in \u001b[0;36mSeriesApply.apply_standard\u001b[0;34m(self)\u001b[0m\n\u001b[1;32m   1074\u001b[0m     \u001b[39melse\u001b[39;00m:\n\u001b[1;32m   1075\u001b[0m         values \u001b[39m=\u001b[39m obj\u001b[39m.\u001b[39mastype(\u001b[39mobject\u001b[39m)\u001b[39m.\u001b[39m_values\n\u001b[0;32m-> 1076\u001b[0m         mapped \u001b[39m=\u001b[39m lib\u001b[39m.\u001b[39;49mmap_infer(\n\u001b[1;32m   1077\u001b[0m             values,\n\u001b[1;32m   1078\u001b[0m             f,\n\u001b[1;32m   1079\u001b[0m             convert\u001b[39m=\u001b[39;49m\u001b[39mself\u001b[39;49m\u001b[39m.\u001b[39;49mconvert_dtype,\n\u001b[1;32m   1080\u001b[0m         )\n\u001b[1;32m   1082\u001b[0m \u001b[39mif\u001b[39;00m \u001b[39mlen\u001b[39m(mapped) \u001b[39mand\u001b[39;00m \u001b[39misinstance\u001b[39m(mapped[\u001b[39m0\u001b[39m], ABCSeries):\n\u001b[1;32m   1083\u001b[0m     \u001b[39m# GH#43986 Need to do list(mapped) in order to get treated as nested\u001b[39;00m\n\u001b[1;32m   1084\u001b[0m     \u001b[39m#  See also GH#25959 regarding EA support\u001b[39;00m\n\u001b[1;32m   1085\u001b[0m     \u001b[39mreturn\u001b[39;00m obj\u001b[39m.\u001b[39m_constructor_expanddim(\u001b[39mlist\u001b[39m(mapped), index\u001b[39m=\u001b[39mobj\u001b[39m.\u001b[39mindex)\n",
      "File \u001b[0;32m~/.conda/envs/silviasenv/lib/python3.9/site-packages/pandas/_libs/lib.pyx:2834\u001b[0m, in \u001b[0;36mpandas._libs.lib.map_infer\u001b[0;34m()\u001b[0m\n",
      "Cell \u001b[0;32mIn[36], line 1\u001b[0m, in \u001b[0;36m<lambda>\u001b[0;34m(x)\u001b[0m\n\u001b[0;32m----> 1\u001b[0m df[\u001b[39m'\u001b[39m\u001b[39mSub-ideologies\u001b[39m\u001b[39m'\u001b[39m] \u001b[39m=\u001b[39m df[\u001b[39m'\u001b[39m\u001b[39mSub-ideologies\u001b[39m\u001b[39m'\u001b[39m]\u001b[39m.\u001b[39mapply(\u001b[39mlambda\u001b[39;00m x: x[\u001b[39m0\u001b[39m] \u001b[39mif\u001b[39;00m \u001b[39mlen\u001b[39;49m(x) \u001b[39m>\u001b[39m \u001b[39m0\u001b[39m \u001b[39melse\u001b[39;00m \u001b[39mNone\u001b[39;00m)\n\u001b[1;32m      3\u001b[0m \u001b[39m# Keep only columns ORGNAME, DOM_I \u001b[39;00m\n\u001b[1;32m      4\u001b[0m \u001b[39m#df = df[['iyear', 'ORGNAME', 'DOM_I', 'Ideologies', 'Sub-ideologies']].reset_index(drop=True)\u001b[39;00m\n\u001b[1;32m      5\u001b[0m \n\u001b[1;32m      6\u001b[0m \u001b[39m# Format column names\u001b[39;00m\n\u001b[1;32m      7\u001b[0m df\u001b[39m.\u001b[39mrename(columns\u001b[39m=\u001b[39m{\u001b[39m'\u001b[39m\u001b[39mDOM_I\u001b[39m\u001b[39m'\u001b[39m: \u001b[39m'\u001b[39m\u001b[39mDominant ideology\u001b[39m\u001b[39m'\u001b[39m, \u001b[39m'\u001b[39m\u001b[39mORGNAME\u001b[39m\u001b[39m'\u001b[39m: \u001b[39m'\u001b[39m\u001b[39mTerrorist group\u001b[39m\u001b[39m'\u001b[39m, \u001b[39m'\u001b[39m\u001b[39miyear\u001b[39m\u001b[39m'\u001b[39m: \u001b[39m'\u001b[39m\u001b[39mYear\u001b[39m\u001b[39m'\u001b[39m}, inplace\u001b[39m=\u001b[39m\u001b[39mTrue\u001b[39;00m)\n",
      "\u001b[0;31mTypeError\u001b[0m: object of type 'NoneType' has no len()"
     ]
    }
   ],
   "source": [
    "df['Sub-ideologies'] = df['Sub-ideologies'].apply(lambda x: x[0] if len(x) > 0 else None)\n",
    "\n",
    "# Keep only columns ORGNAME, DOM_I \n",
    "#df = df[['iyear', 'ORGNAME', 'DOM_I', 'Ideologies', 'Sub-ideologies']].reset_index(drop=True)\n",
    "\n",
    "# Format column names\n",
    "df.rename(columns={'DOM_I': 'Dominant ideology', 'ORGNAME': 'Terrorist group', 'iyear': 'Year'}, inplace=True)"
   ]
  },
  {
   "cell_type": "code",
   "execution_count": 15,
   "metadata": {},
   "outputs": [],
   "source": [
    "# Create the dominant ideologies datafile. Create a new dataframe with 1 row per year, and one column per dominant ideology. Values are the number of attacks of given dominant ideology per year\n",
    "dom_table = df.groupby(['Year', 'Dominant ideology']).size().unstack(fill_value=0)\n",
    "\n",
    "# Remove uncertain column\n",
    "dom_table = dom_table.drop('Uncertain', axis=1)\n",
    "dom_table.to_csv('../data/attacks_per_ideology/dominant_ideologies.csv')\n",
    "\n",
    "sub_rel_table = df[df['Dominant ideology'] == 'Religious'][['Year', 'Sub-ideologies']].groupby(['Year', 'Sub-ideologies']).size().unstack(fill_value=0)\n",
    "sub_rel_table = sub_rel_table.reindex(range(1970, 2018), fill_value=0)\n",
    "sub_rel_table.to_csv('../data/attacks_per_ideology/sub_religious_ideologies.csv')\n",
    "\n",
    "sub_ethno_table = df[df['Dominant ideology'] == 'Ethno-nationalist'][['Year', 'Sub-ideologies']].groupby(['Year', 'Sub-ideologies']).size().unstack(fill_value=0)\n",
    "sub_ethno_table = sub_ethno_table.reindex(range(1970, 2018), fill_value=0)\n",
    "sub_ethno_table.to_csv('../data/attacks_per_ideology/sub_ethnonat_ideologies.csv')\n",
    "\n",
    "sub_right_table = df[df['Dominant ideology'] == 'Extreme right'][['Year', 'Sub-ideologies']].groupby(['Year', 'Sub-ideologies']).size().unstack(fill_value=0)\n",
    "sub_right_table = sub_right_table.reindex(range(1970, 2018), fill_value=0)\n",
    "sub_right_table.to_csv('../data/attacks_per_ideology/sub_right_ideologies.csv')\n",
    "\n",
    "sub_left_table = df[df['Dominant ideology'] == 'Extreme left'][['Year', 'Sub-ideologies']].groupby(['Year', 'Sub-ideologies']).size().unstack(fill_value=0)\n",
    "sub_left_table = sub_left_table.reindex(range(1970, 2018), fill_value=0)\n",
    "sub_left_table.to_csv('../data/attacks_per_ideology/sub_left_ideologies.csv')\n",
    "\n",
    "sub_SI_table = df[df['Dominant ideology'] == 'Single issue'][['Year', 'Sub-ideologies']].groupby(['Year', 'Sub-ideologies']).size().unstack(fill_value=0)\n",
    "sub_SI_table = sub_SI_table.reindex(range(1970, 2018), fill_value=0)\n",
    "sub_SI_table.to_csv('../data/attacks_per_ideology/sub_single_ideologies.csv')\n"
   ]
  },
  {
   "cell_type": "code",
   "execution_count": 16,
   "metadata": {},
   "outputs": [
    {
     "ename": "KeyError",
     "evalue": "'Uncertain'",
     "output_type": "error",
     "traceback": [
      "\u001b[0;31m---------------------------------------------------------------------------\u001b[0m",
      "\u001b[0;31mKeyError\u001b[0m                                  Traceback (most recent call last)",
      "Cell \u001b[0;32mIn[16], line 10\u001b[0m\n\u001b[1;32m      7\u001b[0m ideology_df \u001b[39m=\u001b[39m df[df[\u001b[39m'\u001b[39m\u001b[39mDominant ideology\u001b[39m\u001b[39m'\u001b[39m] \u001b[39m==\u001b[39m ideology]\n\u001b[1;32m      9\u001b[0m \u001b[39m# Get all sub-ideologies for the dominant ideology\u001b[39;00m\n\u001b[0;32m---> 10\u001b[0m sub_ideologies \u001b[39m=\u001b[39m subIdeologies_pairs[ideology]\n\u001b[1;32m     12\u001b[0m \u001b[39m# Create a dataframe with one column per sub-ideology\u001b[39;00m\n",
      "\u001b[0;31mKeyError\u001b[0m: 'Uncertain'"
     ]
    }
   ],
   "source": [
    "# List of dominant ideologies\n",
    "dominant_ideologies = df['Dominant ideology'].unique()\n",
    "\n",
    "# Iterate over each dominant ideology\n",
    "for ideology in dominant_ideologies:\n",
    "    # Filter the data for the specific dominant ideology\n",
    "    ideology_df = df[df['Dominant ideology'] == ideology]\n",
    "\n",
    "    # Get all sub-ideologies for the dominant ideology\n",
    "    sub_ideologies = subIdeologies_pairs[ideology]\n",
    "\n",
    "    # Create a dataframe with one column per sub-ideology"
   ]
  },
  {
   "cell_type": "code",
   "execution_count": 4,
   "metadata": {},
   "outputs": [
    {
     "ename": "NameError",
     "evalue": "name 'df' is not defined",
     "output_type": "error",
     "traceback": [
      "\u001b[0;31m---------------------------------------------------------------------------\u001b[0m",
      "\u001b[0;31mNameError\u001b[0m                                 Traceback (most recent call last)",
      "Cell \u001b[0;32mIn[4], line 2\u001b[0m\n\u001b[1;32m      1\u001b[0m \u001b[39m# List of dominant ideologies\u001b[39;00m\n\u001b[0;32m----> 2\u001b[0m dominant_ideologies \u001b[39m=\u001b[39m df[\u001b[39m'\u001b[39m\u001b[39mDominant ideology\u001b[39m\u001b[39m'\u001b[39m]\u001b[39m.\u001b[39munique()\n\u001b[1;32m      4\u001b[0m \u001b[39m# Create a dictionary to store dataframes for each dominant ideology\u001b[39;00m\n\u001b[1;32m      5\u001b[0m dominant_ideology_dataframes \u001b[39m=\u001b[39m {}\n",
      "\u001b[0;31mNameError\u001b[0m: name 'df' is not defined"
     ]
    }
   ],
   "source": [
    "# List of dominant ideologies\n",
    "dominant_ideologies = df['Dominant ideology'].unique()\n",
    "\n",
    "# Create a dictionary to store dataframes for each dominant ideology\n",
    "dominant_ideology_dataframes = {}\n",
    "\n",
    "for ideology in DOM_labels.values():\n",
    "    # Filter the data for the specific dominant ideology\n",
    "    ideology_df = df[df['Dominant ideology'] == ideology]\n",
    "\n",
    "    # Create an empty dataframe to store the counts of sub-ideologies\n",
    "    sub_ideology_counts = pd.DataFrame(columns=['Year'] + list(subIdeologies_pairs[ideology].values()))\n",
    "\n",
    "    # Iterate over each year (convert to int to avoid float)\n",
    "    start_year = int(ideology_df['Year'].min())\n",
    "    end_year = int(ideology_df['Year'].max())\n",
    "    for year in range(start_year, end_year + 1):\n",
    "        # Filter the data for the specific year\n",
    "        year_df = ideology_df[ideology_df['Year'] == year]\n",
    "\n",
    "        # Create a dictionary to store the counts of sub-ideologies for the given year\n",
    "        sub_ideology_count = {}\n",
    "\n",
    "        # Iterate over each sub-ideology\n",
    "        for sub_ideology_key, sub_ideology_label in subIdeologies_pairs[ideology].items():\n",
    "            # Count the occurrences of the sub-ideology for the given year\n",
    "            count = year_df['Sub-ideologies'].apply(lambda x: sub_ideology_label in x).sum()\n",
    "\n",
    "            # Add the count to the dictionary\n",
    "            sub_ideology_count[sub_ideology_label] = count\n",
    "\n",
    "        # Add the counts to the sub_ideology_counts dataframe for the given year\n",
    "        sub_ideology_counts = sub_ideology_counts.append({'Year': year, **sub_ideology_count}, ignore_index=True)\n",
    "\n",
    "    # Set the Year column as the index\n",
    "    sub_ideology_counts.set_index('Year', inplace=True)\n",
    "\n",
    "    # Store the dataframe in the dictionary\n",
    "    dominant_ideology_dataframes[ideology_label] = sub_ideology_counts"
   ]
  },
  {
   "attachments": {},
   "cell_type": "markdown",
   "metadata": {},
   "source": [
    "### **Data preparation for sunburst**\n",
    "\n",
    "\n",
    "We would like to create the following plot using D3.js: \n",
    "\n",
    "<p align=\"center\">\n",
    "  <img src=\"../plots/sketches/SketchSunburst.jpeg\" \n",
    "  style=\"width: 500px; \"/>\n",
    "</p>\n",
    "\n",
    "We create a `.json` tree with three levels: Dominant ideology, attack type and target type. "
   ]
  },
  {
   "cell_type": "code",
   "execution_count": 26,
   "metadata": {},
   "outputs": [
    {
     "data": {
      "text/plain": [
       "0       Facility/Infrastructure Attack\n",
       "1                    Bombing/Explosion\n",
       "2                    Bombing/Explosion\n",
       "3                    Bombing/Explosion\n",
       "4                    Bombing/Explosion\n",
       "                     ...              \n",
       "7126                 Bombing/Explosion\n",
       "7127    Facility/Infrastructure Attack\n",
       "7128                 Bombing/Explosion\n",
       "7129                 Bombing/Explosion\n",
       "7130                 Bombing/Explosion\n",
       "Name: attacktype1_txt, Length: 7131, dtype: object"
      ]
     },
     "execution_count": 26,
     "metadata": {},
     "output_type": "execute_result"
    }
   ],
   "source": [
    "df.attacktype1_txt"
   ]
  },
  {
   "cell_type": "code",
   "execution_count": 17,
   "metadata": {},
   "outputs": [
    {
     "ename": "KeyError",
     "evalue": "\"None of [Index(['eventid', 'gname', 'attacktype1_txt', 'targtype1_txt',\\n       'dominant_ideology'],\\n      dtype='object')] are in the [columns]\"",
     "output_type": "error",
     "traceback": [
      "\u001b[0;31m---------------------------------------------------------------------------\u001b[0m",
      "\u001b[0;31mKeyError\u001b[0m                                  Traceback (most recent call last)",
      "Cell \u001b[0;32mIn[17], line 3\u001b[0m\n\u001b[1;32m      1\u001b[0m df\u001b[39m.\u001b[39mrename(columns\u001b[39m=\u001b[39m{\u001b[39m'\u001b[39m\u001b[39mDOM_I\u001b[39m\u001b[39m'\u001b[39m: \u001b[39m'\u001b[39m\u001b[39mdominant_ideology\u001b[39m\u001b[39m'\u001b[39m}, inplace\u001b[39m=\u001b[39m\u001b[39mTrue\u001b[39;00m)\n\u001b[1;32m      2\u001b[0m \u001b[39m# Keep only columns eventid, gname, attacktype1_txt, targtype1_txt and dominant_ideology\u001b[39;00m\n\u001b[0;32m----> 3\u001b[0m df \u001b[39m=\u001b[39m df[[\u001b[39m'\u001b[39;49m\u001b[39meventid\u001b[39;49m\u001b[39m'\u001b[39;49m, \u001b[39m'\u001b[39;49m\u001b[39mgname\u001b[39;49m\u001b[39m'\u001b[39;49m, \u001b[39m'\u001b[39;49m\u001b[39mattacktype1_txt\u001b[39;49m\u001b[39m'\u001b[39;49m, \u001b[39m'\u001b[39;49m\u001b[39mtargtype1_txt\u001b[39;49m\u001b[39m'\u001b[39;49m, \u001b[39m'\u001b[39;49m\u001b[39mdominant_ideology\u001b[39;49m\u001b[39m'\u001b[39;49m]]\n\u001b[1;32m      5\u001b[0m \u001b[39m# Remove all rows with uncertain dominant ideology\u001b[39;00m\n\u001b[1;32m      6\u001b[0m df \u001b[39m=\u001b[39m df[df[\u001b[39m'\u001b[39m\u001b[39mdominant_ideology\u001b[39m\u001b[39m'\u001b[39m] \u001b[39m!=\u001b[39m \u001b[39m'\u001b[39m\u001b[39muncertain\u001b[39m\u001b[39m'\u001b[39m]\n",
      "File \u001b[0;32m~/.conda/envs/silviasenv/lib/python3.9/site-packages/pandas/core/frame.py:3767\u001b[0m, in \u001b[0;36mDataFrame.__getitem__\u001b[0;34m(self, key)\u001b[0m\n\u001b[1;32m   3765\u001b[0m     \u001b[39mif\u001b[39;00m is_iterator(key):\n\u001b[1;32m   3766\u001b[0m         key \u001b[39m=\u001b[39m \u001b[39mlist\u001b[39m(key)\n\u001b[0;32m-> 3767\u001b[0m     indexer \u001b[39m=\u001b[39m \u001b[39mself\u001b[39;49m\u001b[39m.\u001b[39;49mcolumns\u001b[39m.\u001b[39;49m_get_indexer_strict(key, \u001b[39m\"\u001b[39;49m\u001b[39mcolumns\u001b[39;49m\u001b[39m\"\u001b[39;49m)[\u001b[39m1\u001b[39m]\n\u001b[1;32m   3769\u001b[0m \u001b[39m# take() does not accept boolean indexers\u001b[39;00m\n\u001b[1;32m   3770\u001b[0m \u001b[39mif\u001b[39;00m \u001b[39mgetattr\u001b[39m(indexer, \u001b[39m\"\u001b[39m\u001b[39mdtype\u001b[39m\u001b[39m\"\u001b[39m, \u001b[39mNone\u001b[39;00m) \u001b[39m==\u001b[39m \u001b[39mbool\u001b[39m:\n",
      "File \u001b[0;32m~/.conda/envs/silviasenv/lib/python3.9/site-packages/pandas/core/indexes/base.py:5876\u001b[0m, in \u001b[0;36mIndex._get_indexer_strict\u001b[0;34m(self, key, axis_name)\u001b[0m\n\u001b[1;32m   5873\u001b[0m \u001b[39melse\u001b[39;00m:\n\u001b[1;32m   5874\u001b[0m     keyarr, indexer, new_indexer \u001b[39m=\u001b[39m \u001b[39mself\u001b[39m\u001b[39m.\u001b[39m_reindex_non_unique(keyarr)\n\u001b[0;32m-> 5876\u001b[0m \u001b[39mself\u001b[39;49m\u001b[39m.\u001b[39;49m_raise_if_missing(keyarr, indexer, axis_name)\n\u001b[1;32m   5878\u001b[0m keyarr \u001b[39m=\u001b[39m \u001b[39mself\u001b[39m\u001b[39m.\u001b[39mtake(indexer)\n\u001b[1;32m   5879\u001b[0m \u001b[39mif\u001b[39;00m \u001b[39misinstance\u001b[39m(key, Index):\n\u001b[1;32m   5880\u001b[0m     \u001b[39m# GH 42790 - Preserve name from an Index\u001b[39;00m\n",
      "File \u001b[0;32m~/.conda/envs/silviasenv/lib/python3.9/site-packages/pandas/core/indexes/base.py:5935\u001b[0m, in \u001b[0;36mIndex._raise_if_missing\u001b[0;34m(self, key, indexer, axis_name)\u001b[0m\n\u001b[1;32m   5933\u001b[0m     \u001b[39mif\u001b[39;00m use_interval_msg:\n\u001b[1;32m   5934\u001b[0m         key \u001b[39m=\u001b[39m \u001b[39mlist\u001b[39m(key)\n\u001b[0;32m-> 5935\u001b[0m     \u001b[39mraise\u001b[39;00m \u001b[39mKeyError\u001b[39;00m(\u001b[39mf\u001b[39m\u001b[39m\"\u001b[39m\u001b[39mNone of [\u001b[39m\u001b[39m{\u001b[39;00mkey\u001b[39m}\u001b[39;00m\u001b[39m] are in the [\u001b[39m\u001b[39m{\u001b[39;00maxis_name\u001b[39m}\u001b[39;00m\u001b[39m]\u001b[39m\u001b[39m\"\u001b[39m)\n\u001b[1;32m   5937\u001b[0m not_found \u001b[39m=\u001b[39m \u001b[39mlist\u001b[39m(ensure_index(key)[missing_mask\u001b[39m.\u001b[39mnonzero()[\u001b[39m0\u001b[39m]]\u001b[39m.\u001b[39munique())\n\u001b[1;32m   5938\u001b[0m \u001b[39mraise\u001b[39;00m \u001b[39mKeyError\u001b[39;00m(\u001b[39mf\u001b[39m\u001b[39m\"\u001b[39m\u001b[39m{\u001b[39;00mnot_found\u001b[39m}\u001b[39;00m\u001b[39m not in index\u001b[39m\u001b[39m\"\u001b[39m)\n",
      "\u001b[0;31mKeyError\u001b[0m: \"None of [Index(['eventid', 'gname', 'attacktype1_txt', 'targtype1_txt',\\n       'dominant_ideology'],\\n      dtype='object')] are in the [columns]\""
     ]
    }
   ],
   "source": [
    "df.rename(columns={'DOM_I': 'dominant_ideology'}, inplace=True)\n",
    "# Keep only columns eventid, gname, attacktype1_txt, targtype1_txt and dominant_ideology\n",
    "df = df[['eventid', 'gname', 'attacktype1_txt', 'targtype1_txt', 'dominant_ideology']]\n",
    "\n",
    "# Remove all rows with uncertain dominant ideology\n",
    "df = df[df['dominant_ideology'] != 'uncertain']\n",
    "\n",
    "# Create a tree of dictionaries with keys {'name', 'children', 'value'} with layers ideology, attacktype1_txt, targtype1_txt from the df dataframe. Each layer has name, value = number of attacks and children = the next layer\n",
    "tree = {'name': 'flare', 'children': []}\n",
    "\n",
    "for ideology in df['dominant_ideology'].unique():\n",
    "    df_ideology = df[df['dominant_ideology'] == ideology]\n",
    "    layer1 = {'name': ideology}\n",
    "    tree['children'].append(layer1)\n",
    "\n",
    "    for attacktype in df_ideology['attacktype1_txt'].unique():\n",
    "        df_attacktype = df_ideology[df_ideology['attacktype1_txt'] == attacktype]\n",
    "        layer2 = {'name': attacktype}\n",
    "        if 'children' in layer1.keys():\n",
    "            layer1['children'].append(layer2)\n",
    "        else: \n",
    "            layer1['children'] = [layer2]\n",
    "\n",
    "# Save ideology_dict as json\n",
    "with open('../maps/sunburst_tree.json', 'w') as fp:\n",
    "    json.dump(tree, fp, indent=4)\n"
   ]
  },
  {
   "attachments": {},
   "cell_type": "markdown",
   "metadata": {},
   "source": [
    "# Analysis 2:"
   ]
  },
  {
   "attachments": {},
   "cell_type": "markdown",
   "metadata": {},
   "source": [
    "### Plot 1."
   ]
  },
  {
   "cell_type": "code",
   "execution_count": null,
   "metadata": {},
   "outputs": [],
   "source": [
    "# plot the number of attacks per year per each dominant_ideology with a lineplot using plotly and fill the area under the line and \n",
    "\n",
    "fig = px.line(df.groupby(['iyear', 'dominant_ideology']).size().reset_index(name='counts'), x='iyear', y='counts', color='dominant_ideology', title='Number of attacks per year per each dominant_ideology', log_y=True)\n",
    "fig.update_layout(\n",
    "    autosize=False,\n",
    "    width=1000,\n",
    "    height=500,\n",
    "    margin=dict(\n",
    "        l = 50,\n",
    "        r = 50,\n",
    "        b = 100,\n",
    "        t = 100,\n",
    "        pad = 4\n",
    "    ),\n",
    "    paper_bgcolor=\"LightSteelBlue\",\n",
    ")\n",
    "# fill the area under the line\n",
    "#fig.update_traces(fill='tozeroy')\n",
    "fig.show()\n"
   ]
  },
  {
   "cell_type": "code",
   "execution_count": null,
   "metadata": {},
   "outputs": [],
   "source": [
    "# remove the -99 from the columns of df\n",
    "df = df.replace(-99, 0)\n",
    "df['I_ETHNO'].groupby([df['iyear']]).sum().reset_index().sort_values(by=['iyear'], ascending=True).rename(columns = {'iyear': 'year', 'I_ETHNO': 'ethno-nationalists'}).to_csv('../data/ETHNO.csv', index=False)\n",
    "df[rel_col].groupby([df['iyear']]).sum().reset_index().sort_values(by=['iyear'], ascending=True).to_csv('../data/REL.csv', index=False)\n",
    "df[race_col].groupby([df['iyear']]).sum().reset_index().sort_values(by=['iyear'], ascending=True).to_csv('../data/RACE.csv', index=False)\n",
    "df[right_col].groupby([df['iyear']]).sum().reset_index().sort_values(by=['iyear'], ascending=True).to_csv('../data/RIGHT.csv', index=False)\n",
    "df[left_col].groupby([df['iyear']]).sum().reset_index().sort_values(by=['iyear'], ascending=True).to_csv('../data/LEFT.csv', index=False)\n",
    "df[si_col].groupby([df['iyear']]).sum().reset_index().sort_values(by=['iyear'], ascending=True).to_csv('../data/SI.csv', index=False)"
   ]
  },
  {
   "cell_type": "code",
   "execution_count": null,
   "metadata": {},
   "outputs": [],
   "source": [
    "# print the df with rel_col and gname and iyear  and imonth\n",
    "df[rel_col].groupby([df['iyear']]).sum().reset_index().sort_values(by=['iyear'], ascending=False)\n",
    "\n",
    "# religious\n",
    "fig = px.bar(df['I_ETHNO'].groupby([df['iyear']]).sum().reset_index().sort_values(by=['iyear'], ascending=False), x='iyear', y='I_ETHNO', title='Number of attacks per year per each ethno_nationalist/suprematist group', log_y=True)\n",
    "# name the y axis as ethno_nationalist/suprematist\n",
    "fig.update_yaxes(title_text='ethno_nationalist/suprematist')\n",
    "fig.update_layout(autosize=False,width=1000,height=500,margin=dict(l = 50,r = 50,b = 100,t = 100,pad = 4),paper_bgcolor=\"LightSteelBlue\")\n",
    "fig.show()\n",
    "# religious\n",
    "fig = px.bar(df[rel_col].groupby([df['iyear']]).sum().reset_index().sort_values(by=['iyear'], ascending=False), x='iyear', y=rel_col, title='Number of attacks per year per each religious group', log_y=True)\n",
    "fig.update_layout(autosize=False,width=1000,height=500,margin=dict(l = 50,r = 50,b = 100,t = 100,pad = 4),paper_bgcolor=\"LightSteelBlue\")\n",
    "sub_ideologies_religious = {'I_REL_1' : 'Buddhist', 'I_REL_2' : 'Catholic/Christian', 'I_REL_3' : 'Cult', 'I_REL_4' : 'Hindu', 'I_REL_5' : 'Islamic (Sunni)', 'I_REL_6' : 'Islamic (Shia)', 'I_REL_7' : 'Jewish/Jewish Orthodox', 'I_REL_8' : 'Sihk (Fundamentalists)', 'I_REL_9' : 'Pagan/Polytheists', 'I_REL_10' : 'Occult (including Satanist)'}\n",
    "fig.for_each_trace(lambda t: t.update(name=sub_ideologies_religious[t.name]))\n",
    "fig.show()\n",
    "# racism\n",
    "fig = px.bar(df[race_col].groupby([df['iyear']]).sum().reset_index().sort_values(by=['iyear'], ascending=False), x='iyear', y=race_col, title='Number of attacks per year per each racism group', log_y=True)\n",
    "sub_ideologies_racism = {'I_RACE_1' : 'Anti-Semitic', 'I_RACE_2' : 'Xenophobic/Nativist/Anti-Immigrant', 'I_RACE_3' : 'Racial Supremacist/Racial Separatist'}\n",
    "fig.update_layout(autosize=False,width=1000,height=500,margin=dict(l = 50,r = 50,b = 100,t = 100,pad = 4),paper_bgcolor=\"LightSteelBlue\")\n",
    "fig.for_each_trace(lambda t: t.update(name=sub_ideologies_racism[t.name]))\n",
    "fig.show()\n",
    "# right\n",
    "fig = px.bar(df[right_col].groupby([df['iyear']]).sum().reset_index().sort_values(by=['iyear'], ascending=False), x='iyear', y=right_col, title='Number of attacks per year per each right group', log_y=True)\n",
    "sub_ideologies_right= {'I_RIGHT_1': 'Anti-Semitic', 'I_RIGHT_2': 'Fascist/Neo-Fascist ', 'I_RIGHT_3': 'Gun Rights', 'I_RIGHT_4': 'Tax Protest'} \n",
    "fig.update_layout(autosize=False,width=1000,height=500,margin=dict(l = 50,r = 50,b = 100,t = 100,pad = 4),paper_bgcolor=\"LightSteelBlue\")\n",
    "fig.for_each_trace(lambda t: t.update(name=sub_ideologies_right[t.name]))\n",
    "fig.show()\n",
    "# left\n",
    "fig = px.bar(df[left_col].groupby([df['iyear']]).sum().reset_index().sort_values(by=['iyear'], ascending=False), x='iyear', y=left_col, title='Number of attacks per year per each left group', log_y=True)\n",
    "sub_ideologies_left= {'I_LEFT_1': 'Anti-Communist/Socialist', 'I_LEFT_2': 'Anarchists', 'I_LEFT_3': 'Marxist/Leninist', 'I_LEFT_4': 'Maoist', 'I_LEFT_5': 'Black Nationalist (US, Europe)', 'I_LEFT_6':'New Left'} \n",
    "fig.update_layout(autosize=False,width=1000,height=500,margin=dict(l = 50,r = 50,b = 100,t = 100,pad = 4),paper_bgcolor=\"LightSteelBlue\")\n",
    "fig.for_each_trace(lambda t: t.update(name=sub_ideologies_left[t.name]))\n",
    "fig.show()\n",
    "# single issue\n",
    "fig = px.bar(df[si_col].groupby([df['iyear']]).sum().reset_index().sort_values(by=['iyear'], ascending=False), x='iyear', y=si_col, title='Number of attacks per year per each single issue group', log_y=True)\n",
    "sub_ideologies_singleissue= {'I_SI_1': 'Anti-Abortion', 'I_SI_2': 'Anti-Catholic', 'I_SI_3': 'Anti-Communist', 'I_SI_4': 'Anti-Ecology/Pro-Development', 'I_SI_5': 'Anti-Homosexual/Anti-Sexual Deviance/Anti-Prostitution', 'I_SI_6': 'Anti-Nuclear', 'I_SI_7': 'Anti-Racist', 'I_SI_8': 'Anti-Religious', 'I_SI_9': 'Gun Rights', 'I_SI_10': 'Xenophobic/Nativist/Anti-Immigrant', 'I_SI_11': 'Tax Protest', 'I_SI_12': 'Anti-Castro', 'I_SI_13': 'Ecological/Anti-Technology/Primitivist/Animal Liberation', 'I_SI_14': '“Pacifist”/Anti-War' }\n",
    "fig.update_layout(autosize=False,width=1000,height=500,margin=dict(l = 50,r = 50,b = 100,t = 100,pad = 4),paper_bgcolor=\"LightSteelBlue\")\n",
    "fig.for_each_trace(lambda t: t.update(name=sub_ideologies_singleissue[t.name]))\n",
    "fig.show()\n"
   ]
  },
  {
   "cell_type": "code",
   "execution_count": null,
   "metadata": {},
   "outputs": [],
   "source": [
    "# create an update menu to select the REL_COL OR ETHNO_COL OR RIGHT_COL OR LEFT_COL OR SI_COL\n",
    "total_col = rel_col.append(si_col).append(right_col).append(left_col).append(race_col)\n",
    "df_dict = df[total_col].groupby([df['iyear']]).sum().reset_index().sort_values(by=['iyear'], ascending=False)\n",
    "fig = px.bar(df_dict, x='iyear', y=total_col, title='Number of attacks per year per each group', log_y=True)\n",
    "fig.update_layout(\n",
    "    autosize=False,\n",
    "    width=1000,\n",
    "    height=500,\n",
    "    margin=dict(\n",
    "        \n",
    "        l = 50,\n",
    "        r = 50,\n",
    "        b = 100,\n",
    "        t = 100,\n",
    "        pad = 4\n",
    "    ),\n",
    "    paper_bgcolor=\"LightSteelBlue\",\n",
    ")\n",
    "fig.update_layout(\n",
    "    updatemenus=[\n",
    "        dict(\n",
    "            \n",
    "            buttons=list([\n",
    "                dict(\n",
    "                    args= [{'y': [df_dict[col] for col in rel_col]}],\n",
    "                    label=\"Religious\",\n",
    "                    method=\"update\"\n",
    "                ),\n",
    "                dict(\n",
    "                    args=[{'y': [df_dict[col] for col in race_col]}],\n",
    "                    label=\"race\",\n",
    "                    method=\"update\"\n",
    "                ),\n",
    "                dict(\n",
    "                    args=[{'y': [df_dict[col] for col in right_col]}],\n",
    "                    label=\"Right\",\n",
    "                    method=\"update\"\n",
    "                ),\n",
    "                dict(\n",
    "                    args=[{'y': [df_dict[col] for col in left_col]}],\n",
    "                    label=\"Left\",\n",
    "                    method=\"update\"\n",
    "                ),\n",
    "                dict(\n",
    "                    args=[{'y': [df_dict[col] for col in si_col]}],\n",
    "                    label=\"SI\",\n",
    "                    method=\"update\"\n",
    "                ),\n",
    "                dict(\n",
    "                    args=[{'y': [df_dict[col] for col in total_col]}],\n",
    "                    label=\"All\",\n",
    "                    method=\"update\"\n",
    "                )\n",
    "            ]),\n",
    "            direction=\"down\",\n",
    "            pad={\"r\": 10, \"t\": 10},\n",
    "            showactive=True,\n",
    "            x=0.1,\n",
    "            xanchor=\"left\",\n",
    "            y=1.1,\n",
    "            yanchor=\"top\"\n",
    "        ),\n",
    "    ]\n",
    ")\n",
    "fig.show()\n"
   ]
  },
  {
   "attachments": {},
   "cell_type": "markdown",
   "metadata": {},
   "source": [
    "does not work with plotly but since it's not necessary to implement it in plotly I will focus on how to do it in d3."
   ]
  },
  {
   "attachments": {},
   "cell_type": "markdown",
   "metadata": {},
   "source": [
    "### Plot 2: check if the ideology is similar to the major goal"
   ]
  },
  {
   "cell_type": "code",
   "execution_count": null,
   "metadata": {},
   "outputs": [],
   "source": [
    "ideologies = {1: \"Extreme Right Wing\", 2: \"Extreme Left Wing\",\n",
    "              3: \"Religious\", 4: \"Ethno-nationalist/separist\", 5: \"Single issue\"}\n",
    "\n",
    "ideology_counts = pd.DataFrame(columns=['ideology', 'count'])\n",
    "for ideology in ideologies:\n",
    "    ideology_counts = ideology_counts.append({'ideology': ideologies[ideology], 'count': len(\n",
    "        df[df.dominant_ideology == ideology])}, ignore_index=True)"
   ]
  },
  {
   "cell_type": "code",
   "execution_count": null,
   "metadata": {},
   "outputs": [],
   "source": [
    "ideologies = {1: \"Extreme Right Wing\", 2: \"Extreme Left Wing\",\n",
    "              3: \"Religious\", 4: \"Ethno-nationalist/separist\", 5: \"Single issue\"}\n",
    "ideology_structure = {}\n",
    "\n",
    "for i in range(5):\n",
    "    ideology = ideologies[i+1]\n",
    "    subset = df[df.dominant_ideology == i+1]\n",
    "    total_known_structure = len(subset[subset.G_POL_1 != -99])\n",
    "    for j in range(6):\n",
    "        pol_goal = j+1\n",
    "        if j != 5:\n",
    "            ideology_structure[(ideology, pol_goal)] = len(\n",
    "                subset[subset['G_POL_'+str(pol_goal)] == 1])/total_known_structure\n",
    "        if j ==5:\n",
    "            ideology_structure[(ideology, pol_goal)] = len(\n",
    "            subset[subset['G_POL_OTH'] == 1])/total_known_structure\n",
    "ideology_structure_df = pd.DataFrame(columns=['ideology', 'pol_goal', 'percentage'])\n",
    "for key in ideology_structure:\n",
    "    ideology_structure_df = ideology_structure_df.append({'ideology': key[0], 'pol_goal': key[1], 'percentage': ideology_structure[key]}, ignore_index=True)\n",
    "\n",
    "ideology_structure_df.set_index(['ideology', 'pol_goal'], inplace=True)\n",
    "\n",
    "# Now make a grouped bar chart with the percentages. The chart should not be stacked, the bars should be next to each other\n",
    "ideology_structure_df.unstack().plot(kind='bar', stacked=False, figsize=(10, 5))\n",
    "# Change the legend. The legend should be outside the plot, for each color we should display the structure (1: Hierarchical, 2: Networked, 3: Cell-like, 4: Fragmented, 5: Other)\n",
    "# Change the content of the legend\n",
    "plt.legend(title=\"POLITICAL major goal\", loc='center left', bbox_to_anchor=(1, 0.5), labels=['Protest government policies/laws', 'Protest government ruling party', 'Seek regime type', 'Territorial goals', 'Influence election', 'Other'])\n",
    "plt.title(\"Group POLITICAL major goal per ideology\")\n",
    "plt.ylabel(\"Percentage\")\n",
    "plt.show()"
   ]
  },
  {
   "cell_type": "code",
   "execution_count": null,
   "metadata": {},
   "outputs": [],
   "source": [
    "ideologies = {1: \"Extreme Right Wing\", 2: \"Extreme Left Wing\",\n",
    "              3: \"Religious\", 4: \"Ethno-nationalist/separist\", 5: \"Single issue\"}\n",
    "ideology_structure = {}\n",
    "\n",
    "for i in range(5):\n",
    "    ideology = ideologies[i+1]\n",
    "    subset = df[df.dominant_ideology == i+1]\n",
    "    total_known_structure = len(subset[subset.G_SOC_1 != -99])\n",
    "    for j in range(3):\n",
    "        soc_goal = j+1\n",
    "        if j != 2:\n",
    "            ideology_structure[(ideology, soc_goal)] = len(\n",
    "                subset[subset['G_SOC_'+str(soc_goal)] == 1])/total_known_structure\n",
    "        if j ==2:\n",
    "            ideology_structure[(ideology, soc_goal)] = len(\n",
    "            subset[subset['G_SOC_OTH'] == 1])/total_known_structure\n",
    "\n",
    "ideology_structure_df = pd.DataFrame(columns=['ideology', 'soc_goal', 'percentage'])\n",
    "for key in ideology_structure:\n",
    "    ideology_structure_df = ideology_structure_df.append({'ideology': key[0], 'soc_goal': key[1], 'percentage': ideology_structure[key]}, ignore_index=True)\n",
    "\n",
    "ideology_structure_df.set_index(['ideology', 'soc_goal'], inplace=True)\n",
    "\n",
    "# Now make a grouped bar chart with the percentages. The chart should not be stacked, the bars should be next to each other\n",
    "ideology_structure_df.unstack().plot(kind='bar', stacked=False, figsize=(10, 5))\n",
    "# Change the legend. The legend should be outside the plot, for each color we should display the structure (1: Hierarchical, 2: Networked, 3: Cell-like, 4: Fragmented, 5: Other)\n",
    "# Change the content of the legend\n",
    "plt.legend(title=\"SOCIAL major goal\", loc='center left', bbox_to_anchor=(1, 0.5), labels=['Protest social discrimination/social justice issues', 'Protest public & private institutions', 'Other'])\n",
    "plt.title(\"Group SOCIAL major goal per ideology\")\n",
    "plt.ylabel(\"Percentage\")\n",
    "plt.show()"
   ]
  },
  {
   "cell_type": "code",
   "execution_count": null,
   "metadata": {},
   "outputs": [],
   "source": [
    "ideologies = {1: \"Extreme Right Wing\", 2: \"Extreme Left Wing\",\n",
    "              3: \"Religious\", 4: \"Ethno-nationalist/separist\", 5: \"Single issue\"}\n",
    "ideology_structure = {}\n",
    "\n",
    "for i in range(5):\n",
    "    ideology = ideologies[i+1]\n",
    "    subset = df[df.dominant_ideology == i+1]\n",
    "    total_known_structure = len(subset[subset.G_ECO_1 != -99])\n",
    "    for j in range(3):\n",
    "        eco_goal = j+1\n",
    "        if j != 2:\n",
    "            ideology_structure[(ideology, eco_goal)] = len(\n",
    "                subset[subset['G_ECO_'+str(eco_goal)] == 1])/total_known_structure\n",
    "        if j ==2:\n",
    "            ideology_structure[(ideology, eco_goal)] = len(\n",
    "            subset[subset['G_ECO_OTH'] == 1])/total_known_structure\n",
    "\n",
    "ideology_structure_df = pd.DataFrame(columns=['ideology', 'eco_goal', 'percentage'])\n",
    "for key in ideology_structure:\n",
    "    ideology_structure_df = ideology_structure_df.append({'ideology': key[0], 'eco_goal': key[1], 'percentage': ideology_structure[key]}, ignore_index=True)\n",
    "\n",
    "ideology_structure_df.set_index(['ideology', 'eco_goal'], inplace=True)\n",
    "\n",
    "# Now make a grouped bar chart with the percentages. The chart should not be stacked, the bars should be next to each other\n",
    "ideology_structure_df.unstack().plot(kind='bar', stacked=False, figsize=(10, 5))\n",
    "# Change the legend. The legend should be outside the plot, for each color we should display the structure (1: Hierarchical, 2: Networked, 3: Cell-like, 4: Fragmented, 5: Other)\n",
    "# Change the content of the legend\n",
    "plt.legend(title=\"ECONOMICAL major goal\", loc='center left', bbox_to_anchor=(1, 0.5), labels=['Protest economic discrimination', 'Protest government/corporate economic policies', 'Other'])\n",
    "plt.title(\"Group ECONOMICAL major goal per ideology\")\n",
    "plt.ylabel(\"Percentage\")\n",
    "plt.show()"
   ]
  },
  {
   "cell_type": "code",
   "execution_count": null,
   "metadata": {},
   "outputs": [],
   "source": [
    "ideologies = {1: \"Extreme Right Wing\", 2: \"Extreme Left Wing\",\n",
    "              3: \"Religious\", 4: \"Ethno-nationalist/separist\", 5: \"Single issue\"}\n",
    "ideology_structure = {}\n",
    "\n",
    "for i in range(5):\n",
    "    ideology = ideologies[i+1]\n",
    "    subset = df[df.dominant_ideology == i+1]\n",
    "    total_known_structure = len(subset[subset.G_REL_1 != -99])\n",
    "    for j in range(4):\n",
    "        rel_goal = j+1\n",
    "        if j != 3:\n",
    "            ideology_structure[(ideology, rel_goal)] = len(\n",
    "                subset[subset['G_REL_'+str(rel_goal)] == 1])/total_known_structure\n",
    "        if j ==3:\n",
    "            ideology_structure[(ideology, rel_goal)] = len(\n",
    "            subset[subset['G_REL_OTH'] == 1])/total_known_structure\n",
    "\n",
    "ideology_structure_df = pd.DataFrame(columns=['ideology', 'rel_goal', 'percentage'])\n",
    "for key in ideology_structure:\n",
    "    ideology_structure_df = ideology_structure_df.append({'ideology': key[0], 'rel_goal': key[1], 'percentage': ideology_structure[key]}, ignore_index=True)\n",
    "\n",
    "ideology_structure_df.set_index(['ideology', 'rel_goal'], inplace=True)\n",
    "\n",
    "# Now make a grouped bar chart with the percentages. The chart should not be stacked, the bars should be next to each other\n",
    "ideology_structure_df.unstack().plot(kind='bar', stacked=False, figsize=(10, 5))\n",
    "# Change the legend. The legend should be outside the plot, for each color we should display the structure (1: Hierarchical, 2: Networked, 3: Cell-like, 4: Fragmented, 5: Other)\n",
    "# Change the content of the legend\n",
    "plt.legend(title=\"RELIGIOUS major goal\", loc='center left', bbox_to_anchor=(1, 0.5), labels=['Protest religious discrimination', 'Protest religious institutions', 'Killing infidels/Non-believers', 'Other'])\n",
    "plt.title(\"Group RELIGIOUS major goal per ideology\")\n",
    "plt.ylabel(\"Percentage\")\n",
    "plt.show()"
   ]
  },
  {
   "attachments": {},
   "cell_type": "markdown",
   "metadata": {},
   "source": [
    "### Plot 3:"
   ]
  },
  {
   "cell_type": "code",
   "execution_count": null,
   "metadata": {},
   "outputs": [],
   "source": [
    "MG_pol_col = df.columns[df.columns.str.startswith('G_POL') & ~df.columns.str.endswith('CI') & ~df.columns.str.endswith('SOURCE') & ~df.columns.str.endswith('TXT')]\n",
    "MG_soc_col = df.columns[df.columns.str.startswith('G_SOC') & ~df.columns.str.endswith('CI') & ~df.columns.str.endswith('SOURCE')& ~df.columns.str.endswith('TXT')]\n",
    "MG_eco_col = df.columns[df.columns.str.startswith('G_ECO') & ~df.columns.str.endswith('CI') & ~df.columns.str.endswith('SOURCE')& ~df.columns.str.endswith('TXT')]\n",
    "MG_rel_col = df.columns[df.columns.str.startswith('G_REL') & ~df.columns.str.endswith('CI') & ~df.columns.str.endswith('SOURCE')& ~df.columns.str.endswith('TXT')] "
   ]
  },
  {
   "cell_type": "code",
   "execution_count": null,
   "metadata": {},
   "outputs": [],
   "source": [
    "total_col = MG_pol_col.append(MG_soc_col).append(MG_eco_col).append(MG_rel_col)\n",
    "# count how many killed people happen in G_POL_1\n",
    "\n",
    "# multiply the number of killed people with the number of attacks\n",
    "df_dict = df[total_col].groupby([df['nkill']]).sum().reset_index().apply(lambda x: x['nkill']*x[total_col], axis=1).sum()\n",
    "\n",
    "# plot a pie chart where the total is the sum of the number of killed people\n",
    "fig = px.pie(df_dict, values=df_dict, names=total_col, title='Number of attacks per year per each group')\n",
    "fig.show()\n"
   ]
  },
  {
   "cell_type": "code",
   "execution_count": null,
   "metadata": {},
   "outputs": [],
   "source": [
    "# correlation between total_col\n",
    "df[total_col].corr()\n",
    "# plot the correlation\n",
    "fig = px.imshow(df[total_col].corr())\n",
    "fig.show()"
   ]
  },
  {
   "cell_type": "code",
   "execution_count": null,
   "metadata": {},
   "outputs": [],
   "source": [
    "# plot the number of attacks per year per each group\n",
    "total_col = MG_pol_col.append(MG_soc_col).append(MG_eco_col).append(MG_rel_col)\n",
    "\n",
    "fig = px.bar(df[total_col].sum().reset_index(), x='index', y=0, title='Number of attacks per each major goal', log_y=False)\n",
    "fig.update_layout(\n",
    "    autosize=False,\n",
    "    width=1000,\n",
    "    height=500,\n",
    "    margin=dict(\n",
    "        \n",
    "        l = 50,\n",
    "        r = 50,\n",
    "        b = 100,\n",
    "        t = 100,\n",
    "        pad = 4\n",
    "    ),\n",
    "    paper_bgcolor=\"LightSteelBlue\",\n",
    ")\n",
    "fig.show()\n",
    "        \n"
   ]
  },
  {
   "attachments": {},
   "cell_type": "markdown",
   "metadata": {},
   "source": [
    "# Analysis 1"
   ]
  },
  {
   "attachments": {},
   "cell_type": "markdown",
   "metadata": {},
   "source": [
    "THE DOMINANT IDEOLOGY CATEGORIES: <br>\n",
    "-99= Uncertainty/conflicting information exists in available data<br> \n",
    "1= Extreme Right Wing (including all racist ideologies)<br>\n",
    "2= Extreme Left Wing<br>\n",
    "3= Religious<br>\n",
    "4= Ethno-nationalist/Separatist<br>\n",
    "5= Single Issue<br>"
   ]
  },
  {
   "cell_type": "code",
   "execution_count": null,
   "metadata": {},
   "outputs": [],
   "source": [
    "# create five new dataframes, one for each ideology\n",
    "df_ethno_nationalist = df[df['dominant_ideology'] == 4]\n",
    "df_religious = df[df['dominant_ideology'] == 3]\n",
    "df_extreme_right = df[df['dominant_ideology'] == 1]\n",
    "df_extreme_left = df[df['dominant_ideology'] == 2]\n",
    "df_single_issue = df[df['dominant_ideology'] == 5]\n",
    "df_uncertain = df[df['dominant_ideology'] == -99]\n",
    "\n",
    "print('The sum of the number of attacks of each ideology is equal to the total number of attacks: ', df_ethno_nationalist.shape[0] + df_religious.shape[0] + df_extreme_right.shape[0] + df_extreme_left.shape[0] + df_single_issue.shape[0] + df_uncertain.shape[0] == df.shape[0])"
   ]
  },
  {
   "cell_type": "code",
   "execution_count": null,
   "metadata": {},
   "outputs": [],
   "source": [
    "# rename the dominant_ideology row from the number to the ideology name in the df dataframe\n",
    "df['dominant_ideology'] = df['dominant_ideology'].replace({1: 'extreme_right', 2: 'extreme_left', 3: 'religious', 4: 'ethno_nationalist', 5: 'single_issue', -99: 'uncertain'})"
   ]
  },
  {
   "attachments": {},
   "cell_type": "markdown",
   "metadata": {},
   "source": [
    "## Analysis of the ethno_nationalists\n",
    "1. geographic analysis\n",
    "2. time series of attacks over time\n",
    "3. number of groups and the most important ones\n",
    "4. "
   ]
  },
  {
   "cell_type": "code",
   "execution_count": null,
   "metadata": {},
   "outputs": [],
   "source": [
    "fig1 = px.scatter_geo(df, lat = 'latitude', lon = 'longitude',animation_frame = 'dominant_ideology' , projection=\"natural earth\")\n",
    "fig1.update_layout(title = 'attacks')\n",
    "fig1.show()"
   ]
  },
  {
   "cell_type": "code",
   "execution_count": null,
   "metadata": {},
   "outputs": [],
   "source": [
    "df_ethno_nationalist.columns"
   ]
  },
  {
   "cell_type": "code",
   "execution_count": null,
   "metadata": {},
   "outputs": [],
   "source": [
    "# do a time series graphh of the number of attacks per year for each ideology\n",
    "df_ethno_nationalist['iyear'] = df_ethno_nationalist['iyear'].astype(int)\n",
    "\n",
    "fig2 = px.line(df_ethno_nationalist.groupby('iyear').count().reset_index(), x = 'iyear', y = 'eventid')\n",
    "fig2.update_layout(title = 'ethno_nationalist attacks')\n",
    "\n",
    "df_religious['iyear'] = df_religious['iyear'].astype(int)\n",
    "\n",
    "fig3 = px.line(df_religious.groupby('iyear').count().reset_index(), x = 'iyear', y = 'eventid')\n",
    "fig3.update_layout(title = 'religious attacks')\n",
    "\n",
    "df_extreme_left['iyear'] = df_extreme_left['iyear'].astype(int)\n",
    "\n",
    "fig3 = px.line(df_extreme_left.groupby('iyear').count().reset_index(), x = 'iyear', y = 'eventid')\n",
    "fig3.update_layout(title = 'etreme left attacks')\n",
    "\n",
    "df_extreme_right['iyear'] = df_extreme_right['iyear'].astype(int)\n",
    "\n",
    "fig3 = px.line(df_extreme_right.groupby('iyear').count().reset_index(), x = 'iyear', y = 'eventid')\n",
    "fig3.update_layout(title = 'extreme right attacks')\n",
    "\n",
    "df_single_issue['iyear'] = df_single_issue['iyear'].astype(int)\n",
    "\n",
    "fig3 = px.line(df_single_issue.groupby('iyear').count().reset_index(), x = 'iyear', y = 'eventid')\n",
    "fig3.update_layout(title = 'single issue attacks')\n",
    "\n",
    "df_uncertain['iyear'] = df_uncertain['iyear'].astype(int)\n",
    "\n",
    "fig3 = px.line(df_uncertain.groupby('iyear').count().reset_index(), x = 'iyear', y = 'eventid')\n",
    "fig3.update_layout(title = 'uncertain attacks')\n",
    "\n",
    "fig4 = make_subplots(rows=2, cols=3, subplot_titles=(\"ethno_nationalist attacks\", \"religious attacks\", \"extreme left attacks\", \"extreme right attacks\", \"single issue attacks\", \"uncertain attacks\"))\n",
    "\n",
    "fig4.add_trace(\n",
    "    go.Scatter(x=df_ethno_nationalist.groupby('iyear').count().reset_index()['iyear'], y=df_ethno_nationalist.groupby('iyear').count().reset_index()['eventid'], name = 'ethno_nationalist'),\n",
    "    row=1, col=1\n",
    ")\n",
    "\n",
    "fig4.add_trace(\n",
    "    go.Scatter(x=df_religious.groupby('iyear').count().reset_index()['iyear'], y=df_religious.groupby('iyear').count().reset_index()['eventid'], name = 'religious'),\n",
    "    row=1, col=2\n",
    ")\n",
    "\n",
    "fig4.add_trace(\n",
    "    go.Scatter(x=df_extreme_left.groupby('iyear').count().reset_index()['iyear'], y=df_extreme_left.groupby('iyear').count().reset_index()['eventid'], name = 'extreme left'),\n",
    "    row=2, col=1\n",
    ")\n",
    "\n",
    "fig4.add_trace(\n",
    "    go.Scatter(x=df_extreme_right.groupby('iyear').count().reset_index()['iyear'], y=df_extreme_right.groupby('iyear').count().reset_index()['eventid'], name = 'extreme right'),\n",
    "    row=2, col=2\n",
    ")\n",
    "\n",
    "fig4.add_trace(\n",
    "    go.Scatter(x=df_single_issue.groupby('iyear').count().reset_index()['iyear'], y=df_single_issue.groupby('iyear').count().reset_index()['eventid'], name = 'single issue'),\n",
    "    row=1, col=3\n",
    ")\n",
    "\n",
    "fig4.add_trace(\n",
    "    go.Scatter(x=df_uncertain.groupby('iyear').count().reset_index()['iyear'], y=df_uncertain.groupby('iyear').count().reset_index()['eventid'], name = 'uncertain'),\n",
    "    row=2, col=3\n",
    ")\n",
    "\n",
    "fig4.update_layout(height=600, width=1000, title_text=\"Subplots\")\n",
    "fig4.show()"
   ]
  },
  {
   "cell_type": "code",
   "execution_count": null,
   "metadata": {},
   "outputs": [],
   "source": [
    "# get the top 3 weapons used by each ideology\n",
    "print(df_ethno_nationalist['weaptype1_txt'].value_counts().head(3))\n",
    "print(df_religious['weaptype1_txt'].value_counts().head(3))\n",
    "print(df_extreme_left['weaptype1_txt'].value_counts().head(3))\n",
    "print(df_extreme_right['weaptype1_txt'].value_counts().head(3))\n",
    "print(df_single_issue['weaptype1_txt'].value_counts().head(3))\n",
    "print(df_uncertain['weaptype1_txt'].value_counts().head(3))"
   ]
  },
  {
   "cell_type": "code",
   "execution_count": null,
   "metadata": {},
   "outputs": [],
   "source": [
    "# diplay the number of killed and wounded people by each ideology per attack\n",
    "print(df_ethno_nationalist[['nkill', 'nwound']].sum() / df_ethno_nationalist.shape[0])\n",
    "print(df_religious[['nkill', 'nwound']].sum() / df_religious.shape[0])\n",
    "print(df_extreme_left[['nkill', 'nwound']].sum() / df_extreme_left.shape[0])\n",
    "print(df_extreme_right[['nkill', 'nwound']].sum() / df_extreme_right.shape[0])\n",
    "print(df_single_issue[['nkill', 'nwound']].sum() / df_single_issue.shape[0])\n",
    "print(df_uncertain[['nkill', 'nwound']].sum() / df_uncertain.shape[0])"
   ]
  },
  {
   "cell_type": "code",
   "execution_count": null,
   "metadata": {},
   "outputs": [],
   "source": [
    "# plot a time series of the nuumber of killed people annd wounded people by each ideology per year on the same graph with different lines per ideology\n",
    "\n",
    "fig5 = make_subplots(rows=1, cols=1, subplot_titles=(\"ethno_nationalist attacks\"))\n",
    "\n",
    "fig5.add_trace(\n",
    "    go.Scatter(x=df_ethno_nationalist.groupby('iyear').sum().reset_index()['iyear'], y=df_ethno_nationalist.groupby('iyear').sum().reset_index()['nkill'], name = 'ethno_nationalist'),\n",
    "    row = 1, col = 1\n",
    ")\n",
    "\n",
    "fig5.add_trace(\n",
    "    go.Scatter(x=df_religious.groupby('iyear').sum().reset_index()['iyear'], y=df_religious.groupby('iyear').sum().reset_index()['nkill'], name = 'religious'),\n",
    "    row = 1, col = 1\n",
    ")\n",
    "\n",
    "fig5.add_trace(\n",
    "    go.Scatter(x=df_extreme_left.groupby('iyear').sum().reset_index()['iyear'], y=df_extreme_left.groupby('iyear').sum().reset_index()['nkill'], name = 'extreme left'),\n",
    "    row = 1, col = 1\n",
    ")\n",
    "\n",
    "fig5.add_trace(\n",
    "    go.Scatter(x=df_extreme_right.groupby('iyear').sum().reset_index()['iyear'], y=df_extreme_right.groupby('iyear').sum().reset_index()['nkill'], name = 'extreme right'),\n",
    "    row = 1, col = 1\n",
    ")\n",
    "\n",
    "fig5.add_trace(\n",
    "    go.Scatter(x=df_single_issue.groupby('iyear').sum().reset_index()['iyear'], y=df_single_issue.groupby('iyear').sum().reset_index()['nkill'], name = 'single issue'),\n",
    "    row = 1, col = 1\n",
    ")\n",
    "\n",
    "fig5.show()\n"
   ]
  },
  {
   "cell_type": "code",
   "execution_count": null,
   "metadata": {},
   "outputs": [],
   "source": [
    "to_save = df_ethno_nationalist[['ORGNAME', 'iyear']].groupby('iyear').count().reset_index().rename(columns = {'ORGNAME': 'ethno_nationalist'})\n",
    "to_save['religious'] = df_religious[['ORGNAME', 'iyear']].groupby('iyear').count().reset_index()['ORGNAME']\n",
    "to_save['extreme_left'] = df_extreme_left[['ORGNAME', 'iyear']].groupby('iyear').count().reset_index()['ORGNAME']\n",
    "to_save['extreme_right'] = df_extreme_right[['ORGNAME', 'iyear']].groupby('iyear').count().reset_index()['ORGNAME']\n",
    "to_save['single_issue'] = df_single_issue[['ORGNAME', 'iyear']].groupby('iyear').count().reset_index()['ORGNAME']\n",
    "to_save['uncertain'] = df_uncertain[['ORGNAME', 'iyear']].groupby('iyear').count().reset_index()['ORGNAME']\n",
    "to_save.head()\n"
   ]
  },
  {
   "cell_type": "code",
   "execution_count": null,
   "metadata": {},
   "outputs": [],
   "source": [
    "to_save.to_csv('ethno_nationalist.csv', index = False)"
   ]
  }
 ],
 "metadata": {
  "kernelspec": {
   "display_name": "silviasenv",
   "language": "python",
   "name": "python3"
  },
  "language_info": {
   "codemirror_mode": {
    "name": "ipython",
    "version": 3
   },
   "file_extension": ".py",
   "mimetype": "text/x-python",
   "name": "python",
   "nbconvert_exporter": "python",
   "pygments_lexer": "ipython3",
   "version": "3.9.16"
  },
  "orig_nbformat": 4
 },
 "nbformat": 4,
 "nbformat_minor": 2
}
