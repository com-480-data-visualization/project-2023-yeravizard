{
 "cells": [
  {
   "attachments": {},
   "cell_type": "markdown",
   "metadata": {},
   "source": [
    "<h2><center><b><i>Cluster bomb</b></i>: Uncovering Patterns in Terrorist Group Beliefs and Attacks</center></h2>\n",
    "\n",
    "#### **COM-480: Data Visualization**\n",
    "\n",
    "**Team**: Alexander Sternfeld, Silvia Romanato & Antoine Bonnet\n",
    "\n",
    "**Dataset**: [Global Terrorism Database (GTD)](https://www.start.umd.edu/gtd/) \n",
    "\n",
    "**Additional dataset**: [Profiles of Perpetrators of Terrorism in the United States (PPTUS)](https://dataverse.harvard.edu/dataset.xhtml?persistentId=hdl%3A1902.1/17702)\n",
    "\n",
    "## **Cluster analysis**\n",
    " "
   ]
  },
  {
   "cell_type": "code",
   "execution_count": 6,
   "metadata": {},
   "outputs": [
    {
     "name": "stdout",
     "output_type": "stream",
     "text": [
      "GTD pickle file found, loading...\n",
      "PPTUS pickle files found, loading...\n"
     ]
    }
   ],
   "source": [
    "import os\n",
    "import pandas as pd\n",
    "import numpy as np\n",
    "import matplotlib.pyplot as plt\n",
    "import seaborn as sns\n",
    "\n",
    "from load_data import *\n",
    "\n",
    "pd.set_option('display.max_columns', None)\n",
    "\n",
    "GTD = load_GTD()\n",
    "PPTUS_data, PPTUS_sources = load_PPTUS()"
   ]
  },
  {
   "cell_type": "code",
   "execution_count": 7,
   "metadata": {},
   "outputs": [
    {
     "name": "stdout",
     "output_type": "stream",
     "text": [
      "(120991, 135)\n"
     ]
    },
    {
     "data": {
      "text/plain": [
       "Taliban                                             12936\n",
       "Islamic State of Iraq and the Levant (ISIL)          7479\n",
       "Shining Path (SL)                                    4567\n",
       "Al-Shabaab                                           4547\n",
       "Houthi extremists (Ansar Allah)                      3516\n",
       "Boko Haram                                           3459\n",
       "New People's Army (NPA)                              3441\n",
       "Farabundo Marti National Liberation Front (FMLN)     3351\n",
       "Irish Republican Army (IRA)                          2670\n",
       "Kurdistan Workers' Party (PKK)                       2612\n",
       "Revolutionary Armed Forces of Colombia (FARC)        2490\n",
       "Maoists                                              2164\n",
       "Communist Party of India - Maoist (CPI-Maoist)       2113\n",
       "Basque Fatherland and Freedom (ETA)                  2024\n",
       "National Liberation Army of Colombia (ELN)           1842\n",
       "Liberation Tigers of Tamil Eelam (LTTE)              1602\n",
       "Tehrik-i-Taliban Pakistan (TTP)                      1509\n",
       "Fulani extremists                                    1280\n",
       "Palestinians                                         1123\n",
       "Al-Qaida in the Arabian Peninsula (AQAP)             1121\n",
       "Muslim extremists                                     967\n",
       "Separatists                                           948\n",
       "Nicaraguan Democratic Force (FDN)                     895\n",
       "Manuel Rodriguez Patriotic Front (FPMR)               830\n",
       "Sikh Extremists                                       716\n",
       "Khorasan Chapter of the Islamic State                 663\n",
       "Corsican National Liberation Front (FLNC)             641\n",
       "Donetsk People's Republic                             639\n",
       "Al-Qaida in Iraq                                      638\n",
       "African National Congress (South Africa)              607\n",
       "Name: gname, dtype: int64"
      ]
     },
     "execution_count": 7,
     "metadata": {},
     "output_type": "execute_result"
    }
   ],
   "source": [
    "# Find all terrorist attacks with gname non null\n",
    "known_groups = GTD[GTD['gname'] != 'Unknown']\n",
    "print(known_groups.shape)\n",
    "known_groups.gname.value_counts().head(30)"
   ]
  },
  {
   "cell_type": "code",
   "execution_count": 9,
   "metadata": {},
   "outputs": [
    {
     "name": "stdout",
     "output_type": "stream",
     "text": [
      "['Action Squad', 'Al-Qaida', 'Al-Qaida in the Arabian Peninsula (AQAP)', 'American Indian Movement', \"American Servicemen's Union (ASU)\", 'Americans for a Competent Federal Judicial System', 'Americans for Justice', 'Animal Liberation Front (ALF)', 'Anti-Castro Command', 'Antonia Martinez Student Commandos (AMSC)', 'Armed Commandos of Liberation', 'Armed Commandos of Student Self Defense', 'Armed Forces of Popular Resistance (FARP)', 'Armed Revolutionary Independence Movement (MIRA)', 'Armenian Secret Army for the Liberation of Armenia', 'Army of God', 'Aryan Liberation Front', 'Aryan Nation', 'Black Afro Militant Movement', 'Black Brigade (United States)', 'Black Liberation Army', 'Black Panthers', 'Black Revolutionary Assault Team', 'Black September', 'Boricua Revolutionary Front', 'Boricuan Armed Anti-Imperialist Commandos', 'Chicano Liberation Front', 'Citizens for Constitutional Freedom', 'Comrades in Arms', 'Continental Revolutionary Army', 'Coordination of the United Revolutionary Organization (CORU)', 'Covenant, Sword and the Arm of the Lord (CSA)', 'Croatian Freedom Fighters', 'Croatian Liberation Army', 'Cuban Action', 'Cuban C-4 Movement', 'Cuban Secret Army', 'Earth First!', 'Earth Liberation Front (ELF)', 'Earth Night Action Group', 'East Side Action Committee', 'Environmental Life Force', 'Evan Mecham Eco-Terrorist International Conspiracy (EMETIC)', 'Farm Animal Revenge Militia (FARM)', 'Fourth Reich Skinheads', \"Fred Hampton Unit of the People's Forces\", 'Fuerzas Armadas de Liberacion Nacional (FALN)', 'Gay Liberation Front', 'George Jackson Brigade', 'Grupo Estrella', 'Guerrilla Column 29 September', 'Guerrilla Forces for Liberation', 'Imperial Iranian Patriotic Organization', 'Independent Armed Revolutionary Commandos (CRIA)', 'Irish Republican Army (IRA)', 'Jamaat-al-Fuqra', 'Jewish Armed Resistance', 'Jewish Committee of Concern', 'Jewish Defense League (JDL)', 'Jonathan Jackson Brigade', 'Justice Commandos for the Armenian Genocide', 'Ku Klux Klan', 'Latin America Anti-Communist Army (LAACA)', 'Liberation Army Fifth Battalion', 'Lolita Lebron Puerto Rican Liberation Command', 'Luis Boitel Commandos', 'M-7', 'Maccabee Squad and the Shield of David', 'Macheteros', 'May 15 Organization for the Liberation of Palestine', 'May 19 Communist Order', 'Mexican Revolutionary Movement', 'Minutemen American Defense', 'Movement for Cuban Justice (Pragmatistas)', 'Mujahedin-e Khalq (MEK)', 'National Committee to Combat Fascism', 'National Front for the Liberation of Cuba (FLNC)', 'National Integration Front (FIN)', 'National Socialist Liberation Front', 'New Jewish Defense League', 'New World Liberation Front (NWLF)', \"New Year's Gang\", 'Ninth of June Organization', 'Omega-7', 'Organization 544', 'Organization Alliance of Cuban Intransigence', 'Organization of Volunteers for the Puerto Rican Revolution', 'Otpor', 'Pedro Albizu Campos Revolutionary Forces', \"People's Brigade for a Healthy Genetic Future\", \"People's Liberation Army (United States)\", \"People's Revolutionary Party\", 'Phineas Priesthood', 'Popular Liberation Army (Puerto Rico)', 'Posse Comitatus', 'Provisional Coordinating Committee for the Defense of Labor', 'Puerto Rican Armed Resistance', 'Puerto Rican Liberation Front', 'Puerto Rican Resistance Movement', 'Puerto Rican Revolutionary Movement', 'Quartermoon Society', 'Rajneeshees', 'Red Guerilla Family', 'Regulators', 'Republic of New Afrika', 'Republic of Texas', 'Revenge of the Trees', 'Revolutionary Action Party', 'Revolutionary Cells-Animal Liberation Brigade', 'Revolutionary Commandos of the People (CRP)', 'Revolutionary Force 26', 'Revolutionary Force 9', 'Revolutionary Force Seven', 'Revolutionary Labor Commandos', 'Save Our Israel Land', 'Secret Army Organization', 'Secret Cuban Government', 'Secret Organization Zero', 'Sons of Liberty', 'Sons of the Gestapo', 'Sovereign Citizen', 'Students for a Democratic Society', 'Students For Insurrection', 'Symbionese Liberation Army (SLA)', 'Tehrik-i-Taliban Pakistan (TTP)', 'The Jewish Execution with Silence', 'The Justice Department', 'The Order (Silent Brotherhood)', 'The Order II (Bruder Schweigen Strike Force II)', 'The Scorpion', 'The World United Formosans for Independence (WUFI)', 'Thunder of Zion', 'Tontons Macoutes', 'Tribal Thumb', 'United Freedom Front (UFF)', 'United Jewish Underground', 'Universal Proutist Revolutionary Federation', 'Up the IRS, Inc.', 'Veterans United for Non-Religious Memorials', 'Vietnamese Organization to Exterminate Communists and Restore the Nation', 'Weather Underground, Weathermen', 'White Panther Party', 'Young Cuba', 'Youth of the Star', 'Zebra Killers']\n"
     ]
    }
   ],
   "source": [
    "terrorist_groups = list(PPTUS_data.ORGNAME)\n",
    "terrorist.groups.append(list(PPTUS_data.))\n",
    "print(terrorist_groups)"
   ]
  },
  {
   "cell_type": "code",
   "execution_count": null,
   "metadata": {},
   "outputs": [],
   "source": []
  },
  {
   "cell_type": "code",
   "execution_count": 11,
   "metadata": {},
   "outputs": [
    {
     "ename": "ValueError",
     "evalue": "The truth value of a Series is ambiguous. Use a.empty, a.bool(), a.item(), a.any() or a.all().",
     "output_type": "error",
     "traceback": [
      "\u001b[0;31m---------------------------------------------------------------------------\u001b[0m",
      "\u001b[0;31mValueError\u001b[0m                                Traceback (most recent call last)",
      "\u001b[0;32m/var/folders/rh/x2hr79s123s3bct3lj6kl28w0000gn/T/ipykernel_99075/2372081502.py\u001b[0m in \u001b[0;36m<module>\u001b[0;34m\u001b[0m\n\u001b[1;32m      1\u001b[0m \u001b[0;31m# Find all terrorist attacks in GTD whose gname is in either PPTUS.ORGNAME or PPTUS.ALIAS\u001b[0m\u001b[0;34m\u001b[0m\u001b[0;34m\u001b[0m\u001b[0m\n\u001b[1;32m      2\u001b[0m \u001b[0;34m\u001b[0m\u001b[0m\n\u001b[0;32m----> 3\u001b[0;31m \u001b[0mGTD\u001b[0m\u001b[0;34m[\u001b[0m\u001b[0mGTD\u001b[0m\u001b[0;34m.\u001b[0m\u001b[0mgname\u001b[0m \u001b[0;32min\u001b[0m \u001b[0mterrorist_groups\u001b[0m\u001b[0;34m]\u001b[0m\u001b[0;34m.\u001b[0m\u001b[0mshape\u001b[0m\u001b[0;34m(\u001b[0m\u001b[0;34m)\u001b[0m\u001b[0;34m\u001b[0m\u001b[0;34m\u001b[0m\u001b[0m\n\u001b[0m",
      "\u001b[0;32m~/opt/anaconda3/lib/python3.9/site-packages/pandas/core/generic.py\u001b[0m in \u001b[0;36m__nonzero__\u001b[0;34m(self)\u001b[0m\n\u001b[1;32m   1525\u001b[0m     \u001b[0;34m@\u001b[0m\u001b[0mfinal\u001b[0m\u001b[0;34m\u001b[0m\u001b[0;34m\u001b[0m\u001b[0m\n\u001b[1;32m   1526\u001b[0m     \u001b[0;32mdef\u001b[0m \u001b[0m__nonzero__\u001b[0m\u001b[0;34m(\u001b[0m\u001b[0mself\u001b[0m\u001b[0;34m)\u001b[0m\u001b[0;34m:\u001b[0m\u001b[0;34m\u001b[0m\u001b[0;34m\u001b[0m\u001b[0m\n\u001b[0;32m-> 1527\u001b[0;31m         raise ValueError(\n\u001b[0m\u001b[1;32m   1528\u001b[0m             \u001b[0;34mf\"The truth value of a {type(self).__name__} is ambiguous. \"\u001b[0m\u001b[0;34m\u001b[0m\u001b[0;34m\u001b[0m\u001b[0m\n\u001b[1;32m   1529\u001b[0m             \u001b[0;34m\"Use a.empty, a.bool(), a.item(), a.any() or a.all().\"\u001b[0m\u001b[0;34m\u001b[0m\u001b[0;34m\u001b[0m\u001b[0m\n",
      "\u001b[0;31mValueError\u001b[0m: The truth value of a Series is ambiguous. Use a.empty, a.bool(), a.item(), a.any() or a.all()."
     ]
    }
   ],
   "source": [
    "# Find all terrorist attacks in GTD whose gname is in either PPTUS.ORGNAME or PPTUS.ALIAS\n",
    "\n",
    "GTD[GTD.gname in terrorist_groups]\n"
   ]
  },
  {
   "cell_type": "code",
   "execution_count": 11,
   "metadata": {},
   "outputs": [
    {
     "data": {
      "text/plain": [
       "0                                                    NaN\n",
       "1      al-Qaida; al-Qaida; The Base; Qaida al-Jihad; ...\n",
       "2      Al Qaida of Jihad Organization in the Arabian ...\n",
       "3                                                    AIM\n",
       "4                                                    ASU\n",
       "                             ...                        \n",
       "140    Weathermen; Weather Underground Organization; ...\n",
       "141                                                  NaN\n",
       "142                                           Joven Cuba\n",
       "143                                                  YOS\n",
       "144                        Death Angels; Zebra Murderers\n",
       "Name: ALIAS, Length: 145, dtype: object"
      ]
     },
     "execution_count": 11,
     "metadata": {},
     "output_type": "execute_result"
    }
   ],
   "source": [
    "PPTUS_data.ALIAS"
   ]
  },
  {
   "cell_type": "code",
   "execution_count": null,
   "metadata": {},
   "outputs": [],
   "source": []
  }
 ],
 "metadata": {
  "kernelspec": {
   "display_name": "Python 3",
   "language": "python",
   "name": "python3"
  },
  "language_info": {
   "codemirror_mode": {
    "name": "ipython",
    "version": 3
   },
   "file_extension": ".py",
   "mimetype": "text/x-python",
   "name": "python",
   "nbconvert_exporter": "python",
   "pygments_lexer": "ipython3",
   "version": "3.9.13"
  },
  "orig_nbformat": 4
 },
 "nbformat": 4,
 "nbformat_minor": 2
}
