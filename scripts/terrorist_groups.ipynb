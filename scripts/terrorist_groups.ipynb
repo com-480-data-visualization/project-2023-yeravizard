{
 "cells": [
  {
   "attachments": {},
   "cell_type": "markdown",
   "metadata": {},
   "source": [
    "<h2><center><b><i>Cluster bomb</b></i>: Uncovering Patterns in Terrorist Group Beliefs and Attacks</center></h2>\n",
    "\n",
    "#### **COM-480: Data Visualization**\n",
    "\n",
    "**Team**: Alexander Sternfeld, Silvia Romanato & Antoine Bonnet\n",
    "\n",
    "**Dataset**: [Global Terrorism Database (GTD)](https://www.start.umd.edu/gtd/) \n",
    "\n",
    "**Additional dataset**: [Profiles of Perpetrators of Terrorism in the United States (PPTUS)](https://dataverse.harvard.edu/dataset.xhtml?persistentId=hdl%3A1902.1/17702)\n",
    "\n",
    "## **Terrorist groups**\n",
    "\n",
    " "
   ]
  },
  {
   "cell_type": "code",
   "execution_count": 1,
   "metadata": {},
   "outputs": [
    {
     "name": "stdout",
     "output_type": "stream",
     "text": [
      "GTD pickle file found, loading...\n",
      "PPTUS files c:\\Users\\alexs\\OneDrive\\EPFL\\Semester2\\Data viz\\project-2023-yeravizard\\data\\PPT-US_DATA.pkl, c:\\Users\\alexs\\OneDrive\\EPFL\\Semester2\\Data viz\\project-2023-yeravizard\\data\\PPT-US_SOURCES.pkl not found, please download and put it in data/ folder.\n"
     ]
    }
   ],
   "source": [
    "import os\n",
    "import pandas as pd\n",
    "import numpy as np\n",
    "import matplotlib.pyplot as plt\n",
    "import seaborn as sns\n",
    "\n",
    "from load_data import *\n",
    "\n",
    "pd.set_option('display.max_columns', None)\n",
    "\n",
    "GTD = load_GTD()\n",
    "PPTUS_data, PPTUS_sources = load_PPTUS()\n"
   ]
  },
  {
   "attachments": {},
   "cell_type": "markdown",
   "metadata": {},
   "source": [
    "### Number of attacks"
   ]
  },
  {
   "cell_type": "code",
   "execution_count": null,
   "metadata": {},
   "outputs": [],
   "source": [
    "# Plot distribution of column 'iyear'\n",
    "sns.histplot(GTD['iyear'])\n",
    "plt.xlabel('Year')\n",
    "# give title\n",
    "plt.ylabel('Number of attacks')\n",
    "plt.show()\n"
   ]
  },
  {
   "attachments": {},
   "cell_type": "markdown",
   "metadata": {},
   "source": [
    "### Ideas for plots\n",
    "\n",
    "* For each group, show how the number of attacks changed over time (ideally on a map?)\n"
   ]
  }
 ],
 "metadata": {
  "kernelspec": {
   "display_name": "ML",
   "language": "python",
   "name": "python3"
  },
  "language_info": {
   "codemirror_mode": {
    "name": "ipython",
    "version": 3
   },
   "file_extension": ".py",
   "mimetype": "text/x-python",
   "name": "python",
   "nbconvert_exporter": "python",
   "pygments_lexer": "ipython3",
   "version": "3.10.4"
  },
  "orig_nbformat": 4
 },
 "nbformat": 4,
 "nbformat_minor": 2
}
