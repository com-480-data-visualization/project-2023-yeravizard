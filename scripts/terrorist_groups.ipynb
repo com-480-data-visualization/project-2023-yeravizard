{
 "cells": [
  {
   "attachments": {},
   "cell_type": "markdown",
   "metadata": {},
   "source": [
    "<h2><center><b><i>Cluster bomb</b></i>: Uncovering Patterns in Terrorist Group Beliefs and Attacks</center></h2>\n",
    "\n",
    "#### **COM-480: Data Visualization**\n",
    "\n",
    "**Team**: Alexander Sternfeld, Silvia Romanato & Antoine Bonnet\n",
    "\n",
    "**Dataset**: [Global Terrorism Database (GTD)](https://www.start.umd.edu/gtd/) \n",
    "\n",
    "**Additional dataset**: [Profiles of Perpetrators of Terrorism in the United States (PPTUS)](https://dataverse.harvard.edu/dataset.xhtml?persistentId=hdl%3A1902.1/17702)\n",
    "\n",
    "## **Terrorist groups**\n",
    "\n",
    " "
   ]
  },
  {
   "cell_type": "code",
   "execution_count": 14,
   "metadata": {},
   "outputs": [
    {
     "name": "stdout",
     "output_type": "stream",
     "text": [
      "GTD pickle file found, loading...\n",
      "PPTUS pickle files found, loading...\n"
     ]
    }
   ],
   "source": [
    "import os\n",
    "import pandas as pd\n",
    "import numpy as np\n",
    "import matplotlib.pyplot as plt\n",
    "import seaborn as sns\n",
    "\n",
    "from load_data import *\n",
    "\n",
    "pd.set_option('display.max_columns', None)\n",
    "\n",
    "GTD = load_GTD()\n",
    "PPTUS_data, PPTUS_sources = load_PPTUS()\n"
   ]
  },
  {
   "attachments": {},
   "cell_type": "markdown",
   "metadata": {},
   "source": [
    "### Ideologies"
   ]
  },
  {
   "cell_type": "code",
   "execution_count": 15,
   "metadata": {},
   "outputs": [],
   "source": [
    "# Rename some of the columns\n",
    "PPTUS_data.rename(columns={'DOM_I': 'dominant_ideology', 'I_ETHNO': 'ethno_nationalist',  'I_REL': 'religious', 'I_RACE':  'racist',\n",
    "                            'I_LEFT': 'extreme_left', 'I_RIGHT':  'extreme_right', 'G_POL_1':  'politic_reasons', 'G_SOC_1':  'social_reasons',\n",
    "                            'G_ECO_1': 'economic_reasons', 'G_REL_1':  'religious_reasons'}, inplace=True)\n"
   ]
  },
  {
   "cell_type": "code",
   "execution_count": 16,
   "metadata": {},
   "outputs": [
    {
     "name": "stdout",
     "output_type": "stream",
     "text": [
      "------------------------------ GTD ------------------------------\n",
      "Number of attacks where group name is not Unknown:  120991\n",
      "Number of distinct groups in GTD: 3766\n",
      "\n",
      "------------------------------ PPTUS ------------------------------\n",
      "Number of known groups:  145\n",
      "Number of attacks executed by a known group:  7131\n"
     ]
    }
   ],
   "source": [
    "# Print number of rows where gname is not \"Unknown\"\n",
    "print(\"-\"*30, \"GTD\", \"-\"*30)\t\n",
    "print(\"Number of attacks where group name is not Unknown: \", len(GTD[GTD.gname != \"Unknown\"]))\n",
    "print(\"Number of distinct groups in GTD:\", len(GTD.gname.unique())-1)\n",
    "\n",
    "print(\"\")\n",
    "print(\"-\"*30, \"PPTUS\", \"-\"*30)\n",
    "known_groups = PPTUS_data['ORGNAME'].unique()\n",
    "\n",
    "print(\"Number of known groups: \", len(known_groups))\n",
    "print(\"Number of attacks executed by a known group: \", len(GTD[GTD.gname.isin(known_groups)]))"
   ]
  },
  {
   "cell_type": "code",
   "execution_count": 17,
   "metadata": {},
   "outputs": [],
   "source": [
    "# Retain only attacks executed by a known group\n",
    "GTD_gattacks = GTD[GTD.gname.isin(known_groups)]\n",
    "\n",
    "# Merge GTD_gattacks with PPTUS_data\n",
    "GTD_gattacks = pd.merge(GTD_gattacks, PPTUS_data, left_on='gname', right_on='ORGNAME', how='left')"
   ]
  },
  {
   "cell_type": "code",
   "execution_count": 18,
   "metadata": {},
   "outputs": [
    {
     "data": {
      "text/html": [
       "<div>\n",
       "<style scoped>\n",
       "    .dataframe tbody tr th:only-of-type {\n",
       "        vertical-align: middle;\n",
       "    }\n",
       "\n",
       "    .dataframe tbody tr th {\n",
       "        vertical-align: top;\n",
       "    }\n",
       "\n",
       "    .dataframe thead th {\n",
       "        text-align: right;\n",
       "    }\n",
       "</style>\n",
       "<table border=\"1\" class=\"dataframe\">\n",
       "  <thead>\n",
       "    <tr style=\"text-align: right;\">\n",
       "      <th></th>\n",
       "      <th>count</th>\n",
       "    </tr>\n",
       "    <tr>\n",
       "      <th>ideology</th>\n",
       "      <th></th>\n",
       "    </tr>\n",
       "  </thead>\n",
       "  <tbody>\n",
       "    <tr>\n",
       "      <th>Extreme Right Wing</th>\n",
       "      <td>61</td>\n",
       "    </tr>\n",
       "    <tr>\n",
       "      <th>Extreme Left Wing</th>\n",
       "      <td>430</td>\n",
       "    </tr>\n",
       "    <tr>\n",
       "      <th>Religious</th>\n",
       "      <td>2722</td>\n",
       "    </tr>\n",
       "    <tr>\n",
       "      <th>Ethno-nationalist/separist</th>\n",
       "      <td>3495</td>\n",
       "    </tr>\n",
       "    <tr>\n",
       "      <th>Single issue</th>\n",
       "      <td>415</td>\n",
       "    </tr>\n",
       "  </tbody>\n",
       "</table>\n",
       "</div>"
      ],
      "text/plain": [
       "                           count\n",
       "ideology                        \n",
       "Extreme Right Wing            61\n",
       "Extreme Left Wing            430\n",
       "Religious                   2722\n",
       "Ethno-nationalist/separist  3495\n",
       "Single issue                 415"
      ]
     },
     "execution_count": 18,
     "metadata": {},
     "output_type": "execute_result"
    }
   ],
   "source": [
    "# Make a dataframe with as rows the distinct ideologies and as a column the number of attacks\n",
    "ideologies = {1: \"Extreme Right Wing\", 2: \"Extreme Left Wing\",\n",
    "              3: \"Religious\", 4: \"Ethno-nationalist/separist\", 5: \"Single issue\"}\n",
    "\n",
    "ideology_counts = pd.DataFrame(columns=['ideology', 'count'])\n",
    "for ideology in ideologies:\n",
    "    ideology_counts = ideology_counts.append({'ideology': ideologies[ideology], 'count': len(\n",
    "        GTD_gattacks[GTD_gattacks.dominant_ideology == ideology])}, ignore_index=True)\n",
    "\n",
    "ideology_counts.set_index('ideology', inplace=True)\n",
    "\n",
    "ideology_counts"
   ]
  },
  {
   "attachments": {},
   "cell_type": "markdown",
   "metadata": {},
   "source": [
    "## Group analysis"
   ]
  },
  {
   "attachments": {},
   "cell_type": "markdown",
   "metadata": {},
   "source": [
    "#### Ideas for plots regarding groups (Alex)\n",
    "\n",
    "**Origin of the group**\n",
    "* Use first known and last known attack data of group: see based on the ideology which groups last longer\n",
    "* Do something with the founding philosophy (PHIL) of the groups. This is a text variable.\n",
    "\n",
    "**Organization of groups**\n",
    "* structure of the organization: STRUC_1 (hierarchical), STRUC_2 (network), STRUC_3 (umbrella), STRUC_4 (movement), STRUC_OTH\n",
    "* Recruitment strategies: REC_1 (net), REC_2 (funnel), REC_3 (infection), REC_4 (seed crystal), REC_5 (self-recruitment), REC_OTH (other). Medium of recruitment: MREC_1 (direct), MREC_2 (indirect)\n",
    "* Financing: FINS_1 (state sponsorship), FINS_2 (illegal activities), FINS_3 (donations), FINS_4 (front companies), FINS_5 (self-funded), FINS_OTH (other)\n",
    "\n",
    "**Strategies of the groups**\n",
    "* Target types, attack types, number of casualties.\n",
    "\n",
    "#### Ideas for plots regarding ideologies (Silvia)\n",
    "\n",
    "**Overview of ideologies**\n",
    "* Dive into main- and sub-ideologies\n",
    "\n",
    "**Motivations of different ideologies**\n",
    "* Have a look at header \"Major goals\" in PPT_US\n",
    "\n",
    "**Evolvement over time**\n",
    "* How have the main/sub ideologies evolved over time?\n",
    "\n"
   ]
  },
  {
   "attachments": {},
   "cell_type": "markdown",
   "metadata": {},
   "source": [
    "### Group organization"
   ]
  },
  {
   "cell_type": "code",
   "execution_count": 30,
   "metadata": {},
   "outputs": [],
   "source": [
    "#----------------------Group structure----------------------#\n",
    "# For each ideology, print percentages where STRUC_1 is 1, STRUC_2 is 1, STRUC_3 is 1, STRUC_4 is 1, STRUC_OTH is 1\n",
    "\n",
    "# initialize a dictionary where the key is (ideology, structure) and the value is the percentage\n",
    "ideology_structure = {}\n",
    "\n",
    "for i in range(5):\n",
    "    ideology = ideologies[i+1]\n",
    "    subset = GTD_gattacks[GTD_gattacks.dominant_ideology == i+1]\n",
    "    total_known_structure = len(subset[subset.STRUC_1 != -99])\n",
    "    for j in range(5):\n",
    "        structure = j+1\n",
    "        if j != 4:\n",
    "            ideology_structure[(ideology, structure)] = len(\n",
    "                subset[subset['STRUC_'+str(structure)] == 1])/total_known_structure\n",
    "        if j ==4:\n",
    "            ideology_structure[(ideology, structure)] = len(\n",
    "            subset[subset['STRUC_OTH'] == 1])/total_known_structure"
   ]
  },
  {
   "cell_type": "code",
   "execution_count": 31,
   "metadata": {},
   "outputs": [
    {
     "data": {
      "image/png": "[encoded data removed]",
      "text/plain": [
       "<Figure size 1000x500 with 1 Axes>"
      ]
     },
     "metadata": {},
     "output_type": "display_data"
    }
   ],
   "source": [
    "# Now make a grouped bar chart with the percentages\n",
    "# Make a dataframe with the percentages\n",
    "ideology_structure_df = pd.DataFrame(columns=['ideology', 'structure', 'percentage'])\n",
    "for key in ideology_structure:\n",
    "    ideology_structure_df = ideology_structure_df.append({'ideology': key[0], 'structure': key[1], 'percentage': ideology_structure[key]}, ignore_index=True)\n",
    "\n",
    "ideology_structure_df.set_index(['ideology', 'structure'], inplace=True)\n",
    "\n",
    "# Now make a grouped bar chart with the percentages. The chart should not be stacked, the bars should be next to each other\n",
    "ideology_structure_df.unstack().plot(kind='bar', stacked=False, figsize=(10, 5))\n",
    "# Change the legend. The legend should be outside the plot, for each color we should display the structure (1: Hierarchical, 2: Networked, 3: Cell-like, 4: Fragmented, 5: Other)\n",
    "# Change the content of the legend\n",
    "plt.legend(title=\"Structure\", loc='center left', bbox_to_anchor=(1, 0.5), labels=['Hierarchical', 'Networked', 'Umbrella', 'Movement', 'Other'])\n",
    "plt.title(\"Group structure per ideology\")\n",
    "plt.ylabel(\"Percentage\")\n",
    "plt.show()"
   ]
  },
  {
   "cell_type": "code",
   "execution_count": 41,
   "metadata": {},
   "outputs": [
    {
     "data": {
      "image/png": "[encoded data removed]",
      "text/plain": [
       "<Figure size 1000x500 with 1 Axes>"
      ]
     },
     "metadata": {},
     "output_type": "display_data"
    }
   ],
   "source": [
    "#---------------------Recruitment strategies---------------------#\n",
    "# Do the same as before, but now for REC_1, REC_2, REC_3, REC_4, REC_5, REC_OTH\n",
    "# initialize a dictionary where the key is (ideology, recruitment) and the value is the percentage\n",
    "ideology_recruitment = {}\n",
    "\n",
    "for i in range(5):\n",
    "    ideology = ideologies[i+1]\n",
    "    subset = GTD_gattacks[GTD_gattacks.dominant_ideology == i+1]\n",
    "    total_known_recruitment = len(subset[subset.REC_1 != -99])\n",
    "    for j in range(5):\n",
    "        recruitment = j+1\n",
    "        if j != 4:\n",
    "            ideology_recruitment[(ideology, recruitment)] = len(\n",
    "                subset[subset['REC_'+str(recruitment)] == 1])/total_known_recruitment\n",
    "        if j ==4:\n",
    "            ideology_recruitment[(ideology, recruitment)] = len(\n",
    "            subset[subset['REC_OTH'] == 1])/total_known_recruitment\n",
    "\n",
    "# Now make a grouped bar chart with the percentages\n",
    "# Make a dataframe with the percentages\n",
    "ideology_recruitment_df = pd.DataFrame(columns=['ideology', 'recruitment', 'percentage'])\n",
    "for key in ideology_recruitment:\n",
    "    ideology_recruitment_df = ideology_recruitment_df.append({'ideology': key[0], 'recruitment': key[1], 'percentage': ideology_recruitment[key]}, ignore_index=True)\n",
    "\n",
    "ideology_recruitment_df.set_index(['ideology', 'recruitment'], inplace=True)\n",
    "\n",
    "# Now make a grouped bar chart with the percentages. The chart should not be stacked, the bars should be next to each other\n",
    "ideology_recruitment_df.unstack().plot(kind='bar', stacked=False, figsize=(10, 5))\n",
    "# Change the legend. The legend should be outside the plot, for each color we should display the recruitment (1: Coercion, 2: Material Incentive, 3: Social Network, 4: Ideological, 5: Other)\n",
    "# Change the content of the legend\n",
    "plt.legend(title=\"Recruitment\", loc='center left', bbox_to_anchor=(1, 0.5), labels=['Net', 'funnel', 'infection', 'seed crystal', 'self recruitment', 'Other'])\n",
    "plt.title(\"Recruitment strategies per ideology\")\n",
    "plt.ylabel(\"Percentage\")\n",
    "# log y axis\n",
    "plt.yscale('log')\n",
    "plt.show()\n"
   ]
  },
  {
   "attachments": {},
   "cell_type": "markdown",
   "metadata": {},
   "source": [
    "## Specific group analysis"
   ]
  },
  {
   "cell_type": "code",
   "execution_count": 8,
   "metadata": {},
   "outputs": [],
   "source": [
    "# Get the groups of interest\n",
    "taliban_attacks = GTD_gattacks[GTD_gattacks.gname ==\n",
    "                               \"Tehrik-i-Taliban Pakistan (TTP)\"]\n",
    "mek_attacks = GTD_gattacks[GTD_gattacks.gname == \"Mujahedin-e Khalq (MEK)\"]\n",
    "IRA_attacks = GTD_gattacks[GTD_gattacks.gname == \"Irish Republican Army (IRA)\"]"
   ]
  },
  {
   "attachments": {},
   "cell_type": "markdown",
   "metadata": {},
   "source": [
    "#### Differences in targets"
   ]
  },
  {
   "cell_type": "code",
   "execution_count": 9,
   "metadata": {},
   "outputs": [
    {
     "data": {
      "application/vnd.plotly.v1+json": {
       "config": {
        "plotlyServerURL": "https://plot.ly"
       },
       "data": [
        {
         "alignmentgroup": "True",
         "hovertemplate": "target_type=Military<br>group=%{x}<br>percentage=%{y}<extra></extra>",
         "legendgroup": "Military",
         "marker": {
          "color": "#636efa",
          "pattern": {
           "shape": ""
          }
         },
         "name": "Military",
         "offsetgroup": "Military",
         "orientation": "v",
         "showlegend": true,
         "textposition": "auto",
         "type": "bar",
         "x": [
          "Tehrik-i-Taliban Pakistan (TTP)",
          "Mujahedin-e Khalq (MEK)",
          "Irish Republican Army (IRA)"
         ],
         "xaxis": "x",
         "y": [
          21.736249171636846,
          22.321428571428573,
          29.363295880149813
         ],
         "yaxis": "y"
        },
        {
         "alignmentgroup": "True",
         "hovertemplate": "target_type=Government (General)<br>group=%{x}<br>percentage=%{y}<extra></extra>",
         "legendgroup": "Government (General)",
         "marker": {
          "color": "#EF553B",
          "pattern": {
           "shape": ""
          }
         },
         "name": "Government (General)",
         "offsetgroup": "Government (General)",
         "orientation": "v",
         "showlegend": true,
         "textposition": "auto",
         "type": "bar",
         "x": [
          "Tehrik-i-Taliban Pakistan (TTP)",
          "Mujahedin-e Khalq (MEK)",
          "Irish Republican Army (IRA)"
         ],
         "xaxis": "x",
         "y": [
          6.82571239231279,
          21.428571428571427,
          5.880149812734083
         ],
         "yaxis": "y"
        },
        {
         "alignmentgroup": "True",
         "hovertemplate": "target_type=Police<br>group=%{x}<br>percentage=%{y}<extra></extra>",
         "legendgroup": "Police",
         "marker": {
          "color": "#00cc96",
          "pattern": {
           "shape": ""
          }
         },
         "name": "Police",
         "offsetgroup": "Police",
         "orientation": "v",
         "showlegend": true,
         "textposition": "auto",
         "type": "bar",
         "x": [
          "Tehrik-i-Taliban Pakistan (TTP)",
          "Mujahedin-e Khalq (MEK)",
          "Irish Republican Army (IRA)"
         ],
         "xaxis": "x",
         "y": [
          18.15772034459907,
          8.035714285714286,
          20
         ],
         "yaxis": "y"
        },
        {
         "alignmentgroup": "True",
         "hovertemplate": "target_type=Private Citizens & Property<br>group=%{x}<br>percentage=%{y}<extra></extra>",
         "legendgroup": "Private Citizens & Property",
         "marker": {
          "color": "#ab63fa",
          "pattern": {
           "shape": ""
          }
         },
         "name": "Private Citizens & Property",
         "offsetgroup": "Private Citizens & Property",
         "orientation": "v",
         "showlegend": true,
         "textposition": "auto",
         "type": "bar",
         "x": [
          "Tehrik-i-Taliban Pakistan (TTP)",
          "Mujahedin-e Khalq (MEK)",
          "Irish Republican Army (IRA)"
         ],
         "xaxis": "x",
         "y": [
          21.40490390987409,
          9.821428571428571,
          15.842696629213481
         ],
         "yaxis": "y"
        },
        {
         "alignmentgroup": "True",
         "hovertemplate": "target_type=Business<br>group=%{x}<br>percentage=%{y}<extra></extra>",
         "legendgroup": "Business",
         "marker": {
          "color": "#FFA15A",
          "pattern": {
           "shape": ""
          }
         },
         "name": "Business",
         "offsetgroup": "Business",
         "orientation": "v",
         "showlegend": true,
         "textposition": "auto",
         "type": "bar",
         "x": [
          "Tehrik-i-Taliban Pakistan (TTP)",
          "Mujahedin-e Khalq (MEK)",
          "Irish Republican Army (IRA)"
         ],
         "xaxis": "x",
         "y": [
          5.1027170311464545,
          10.714285714285714,
          19.925093632958802
         ],
         "yaxis": "y"
        },
        {
         "alignmentgroup": "True",
         "hovertemplate": "target_type=Other<br>group=%{x}<br>percentage=%{y}<extra></extra>",
         "legendgroup": "Other",
         "marker": {
          "color": "#19d3f3",
          "pattern": {
           "shape": ""
          }
         },
         "name": "Other",
         "offsetgroup": "Other",
         "orientation": "v",
         "showlegend": true,
         "textposition": "auto",
         "type": "bar",
         "x": [
          "Tehrik-i-Taliban Pakistan (TTP)",
          "Mujahedin-e Khalq (MEK)",
          "Irish Republican Army (IRA)"
         ],
         "xaxis": "x",
         "y": [
          0.06626905235255136,
          0,
          0
         ],
         "yaxis": "y"
        }
       ],
       "layout": {
        "barmode": "stack",
        "legend": {
         "title": {
          "text": "target_type"
         },
         "tracegroupgap": 0
        },
        "margin": {
         "t": 60
        },
        "template": {
         "data": {
          "bar": [
           {
            "error_x": {
             "color": "#2a3f5f"
            },
            "error_y": {
             "color": "#2a3f5f"
            },
            "marker": {
             "line": {
              "color": "#E5ECF6",
              "width": 0.5
             },
             "pattern": {
              "fillmode": "overlay",
              "size": 10,
              "solidity": 0.2
             }
            },
            "type": "bar"
           }
          ],
          "barpolar": [
           {
            "marker": {
             "line": {
              "color": "#E5ECF6",
              "width": 0.5
             },
             "pattern": {
              "fillmode": "overlay",
              "size": 10,
              "solidity": 0.2
             }
            },
            "type": "barpolar"
           }
          ],
          "carpet": [
           {
            "aaxis": {
             "endlinecolor": "#2a3f5f",
             "gridcolor": "white",
             "linecolor": "white",
             "minorgridcolor": "white",
             "startlinecolor": "#2a3f5f"
            },
            "baxis": {
             "endlinecolor": "#2a3f5f",
             "gridcolor": "white",
             "linecolor": "white",
             "minorgridcolor": "white",
             "startlinecolor": "#2a3f5f"
            },
            "type": "carpet"
           }
          ],
          "choropleth": [
           {
            "colorbar": {
             "outlinewidth": 0,
             "ticks": ""
            },
            "type": "choropleth"
           }
          ],
          "contour": [
           {
            "colorbar": {
             "outlinewidth": 0,
             "ticks": ""
            },
            "colorscale": [
             [
              0,
              "#0d0887"
             ],
             [
              0.1111111111111111,
              "#46039f"
             ],
             [
              0.2222222222222222,
              "#7201a8"
             ],
             [
              0.3333333333333333,
              "#9c179e"
             ],
             [
              0.4444444444444444,
              "#bd3786"
             ],
             [
              0.5555555555555556,
              "#d8576b"
             ],
             [
              0.6666666666666666,
              "#ed7953"
             ],
             [
              0.7777777777777778,
              "#fb9f3a"
             ],
             [
              0.8888888888888888,
              "#fdca26"
             ],
             [
              1,
              "#f0f921"
             ]
            ],
            "type": "contour"
           }
          ],
          "contourcarpet": [
           {
            "colorbar": {
             "outlinewidth": 0,
             "ticks": ""
            },
            "type": "contourcarpet"
           }
          ],
          "heatmap": [
           {
            "colorbar": {
             "outlinewidth": 0,
             "ticks": ""
            },
            "colorscale": [
             [
              0,
              "#0d0887"
             ],
             [
              0.1111111111111111,
              "#46039f"
             ],
             [
              0.2222222222222222,
              "#7201a8"
             ],
             [
              0.3333333333333333,
              "#9c179e"
             ],
             [
              0.4444444444444444,
              "#bd3786"
             ],
             [
              0.5555555555555556,
              "#d8576b"
             ],
             [
              0.6666666666666666,
              "#ed7953"
             ],
             [
              0.7777777777777778,
              "#fb9f3a"
             ],
             [
              0.8888888888888888,
              "#fdca26"
             ],
             [
              1,
              "#f0f921"
             ]
            ],
            "type": "heatmap"
           }
          ],
          "heatmapgl": [
           {
            "colorbar": {
             "outlinewidth": 0,
             "ticks": ""
            },
            "colorscale": [
             [
              0,
              "#0d0887"
             ],
             [
              0.1111111111111111,
              "#46039f"
             ],
             [
              0.2222222222222222,
              "#7201a8"
             ],
             [
              0.3333333333333333,
              "#9c179e"
             ],
             [
              0.4444444444444444,
              "#bd3786"
             ],
             [
              0.5555555555555556,
              "#d8576b"
             ],
             [
              0.6666666666666666,
              "#ed7953"
             ],
             [
              0.7777777777777778,
              "#fb9f3a"
             ],
             [
              0.8888888888888888,
              "#fdca26"
             ],
             [
              1,
              "#f0f921"
             ]
            ],
            "type": "heatmapgl"
           }
          ],
          "histogram": [
           {
            "marker": {
             "pattern": {
              "fillmode": "overlay",
              "size": 10,
              "solidity": 0.2
             }
            },
            "type": "histogram"
           }
          ],
          "histogram2d": [
           {
            "colorbar": {
             "outlinewidth": 0,
             "ticks": ""
            },
            "colorscale": [
             [
              0,
              "#0d0887"
             ],
             [
              0.1111111111111111,
              "#46039f"
             ],
             [
              0.2222222222222222,
              "#7201a8"
             ],
             [
              0.3333333333333333,
              "#9c179e"
             ],
             [
              0.4444444444444444,
              "#bd3786"
             ],
             [
              0.5555555555555556,
              "#d8576b"
             ],
             [
              0.6666666666666666,
              "#ed7953"
             ],
             [
              0.7777777777777778,
              "#fb9f3a"
             ],
             [
              0.8888888888888888,
              "#fdca26"
             ],
             [
              1,
              "#f0f921"
             ]
            ],
            "type": "histogram2d"
           }
          ],
          "histogram2dcontour": [
           {
            "colorbar": {
             "outlinewidth": 0,
             "ticks": ""
            },
            "colorscale": [
             [
              0,
              "#0d0887"
             ],
             [
              0.1111111111111111,
              "#46039f"
             ],
             [
              0.2222222222222222,
              "#7201a8"
             ],
             [
              0.3333333333333333,
              "#9c179e"
             ],
             [
              0.4444444444444444,
              "#bd3786"
             ],
             [
              0.5555555555555556,
              "#d8576b"
             ],
             [
              0.6666666666666666,
              "#ed7953"
             ],
             [
              0.7777777777777778,
              "#fb9f3a"
             ],
             [
              0.8888888888888888,
              "#fdca26"
             ],
             [
              1,
              "#f0f921"
             ]
            ],
            "type": "histogram2dcontour"
           }
          ],
          "mesh3d": [
           {
            "colorbar": {
             "outlinewidth": 0,
             "ticks": ""
            },
            "type": "mesh3d"
           }
          ],
          "parcoords": [
           {
            "line": {
             "colorbar": {
              "outlinewidth": 0,
              "ticks": ""
             }
            },
            "type": "parcoords"
           }
          ],
          "pie": [
           {
            "automargin": true,
            "type": "pie"
           }
          ],
          "scatter": [
           {
            "fillpattern": {
             "fillmode": "overlay",
             "size": 10,
             "solidity": 0.2
            },
            "type": "scatter"
           }
          ],
          "scatter3d": [
           {
            "line": {
             "colorbar": {
              "outlinewidth": 0,
              "ticks": ""
             }
            },
            "marker": {
             "colorbar": {
              "outlinewidth": 0,
              "ticks": ""
             }
            },
            "type": "scatter3d"
           }
          ],
          "scattercarpet": [
           {
            "marker": {
             "colorbar": {
              "outlinewidth": 0,
              "ticks": ""
             }
            },
            "type": "scattercarpet"
           }
          ],
          "scattergeo": [
           {
            "marker": {
             "colorbar": {
              "outlinewidth": 0,
              "ticks": ""
             }
            },
            "type": "scattergeo"
           }
          ],
          "scattergl": [
           {
            "marker": {
             "colorbar": {
              "outlinewidth": 0,
              "ticks": ""
             }
            },
            "type": "scattergl"
           }
          ],
          "scattermapbox": [
           {
            "marker": {
             "colorbar": {
              "outlinewidth": 0,
              "ticks": ""
             }
            },
            "type": "scattermapbox"
           }
          ],
          "scatterpolar": [
           {
            "marker": {
             "colorbar": {
              "outlinewidth": 0,
              "ticks": ""
             }
            },
            "type": "scatterpolar"
           }
          ],
          "scatterpolargl": [
           {
            "marker": {
             "colorbar": {
              "outlinewidth": 0,
              "ticks": ""
             }
            },
            "type": "scatterpolargl"
           }
          ],
          "scatterternary": [
           {
            "marker": {
             "colorbar": {
              "outlinewidth": 0,
              "ticks": ""
             }
            },
            "type": "scatterternary"
           }
          ],
          "surface": [
           {
            "colorbar": {
             "outlinewidth": 0,
             "ticks": ""
            },
            "colorscale": [
             [
              0,
              "#0d0887"
             ],
             [
              0.1111111111111111,
              "#46039f"
             ],
             [
              0.2222222222222222,
              "#7201a8"
             ],
             [
              0.3333333333333333,
              "#9c179e"
             ],
             [
              0.4444444444444444,
              "#bd3786"
             ],
             [
              0.5555555555555556,
              "#d8576b"
             ],
             [
              0.6666666666666666,
              "#ed7953"
             ],
             [
              0.7777777777777778,
              "#fb9f3a"
             ],
             [
              0.8888888888888888,
              "#fdca26"
             ],
             [
              1,
              "#f0f921"
             ]
            ],
            "type": "surface"
           }
          ],
          "table": [
           {
            "cells": {
             "fill": {
              "color": "#EBF0F8"
             },
             "line": {
              "color": "white"
             }
            },
            "header": {
             "fill": {
              "color": "#C8D4E3"
             },
             "line": {
              "color": "white"
             }
            },
            "type": "table"
           }
          ]
         },
         "layout": {
          "annotationdefaults": {
           "arrowcolor": "#2a3f5f",
           "arrowhead": 0,
           "arrowwidth": 1
          },
          "autotypenumbers": "strict",
          "coloraxis": {
           "colorbar": {
            "outlinewidth": 0,
            "ticks": ""
           }
          },
          "colorscale": {
           "diverging": [
            [
             0,
             "#8e0152"
            ],
            [
             0.1,
             "#c51b7d"
            ],
            [
             0.2,
             "#de77ae"
            ],
            [
             0.3,
             "#f1b6da"
            ],
            [
             0.4,
             "#fde0ef"
            ],
            [
             0.5,
             "#f7f7f7"
            ],
            [
             0.6,
             "#e6f5d0"
            ],
            [
             0.7,
             "#b8e186"
            ],
            [
             0.8,
             "#7fbc41"
            ],
            [
             0.9,
             "#4d9221"
            ],
            [
             1,
             "#276419"
            ]
           ],
           "sequential": [
            [
             0,
             "#0d0887"
            ],
            [
             0.1111111111111111,
             "#46039f"
            ],
            [
             0.2222222222222222,
             "#7201a8"
            ],
            [
             0.3333333333333333,
             "#9c179e"
            ],
            [
             0.4444444444444444,
             "#bd3786"
            ],
            [
             0.5555555555555556,
             "#d8576b"
            ],
            [
             0.6666666666666666,
             "#ed7953"
            ],
            [
             0.7777777777777778,
             "#fb9f3a"
            ],
            [
             0.8888888888888888,
             "#fdca26"
            ],
            [
             1,
             "#f0f921"
            ]
           ],
           "sequentialminus": [
            [
             0,
             "#0d0887"
            ],
            [
             0.1111111111111111,
             "#46039f"
            ],
            [
             0.2222222222222222,
             "#7201a8"
            ],
            [
             0.3333333333333333,
             "#9c179e"
            ],
            [
             0.4444444444444444,
             "#bd3786"
            ],
            [
             0.5555555555555556,
             "#d8576b"
            ],
            [
             0.6666666666666666,
             "#ed7953"
            ],
            [
             0.7777777777777778,
             "#fb9f3a"
            ],
            [
             0.8888888888888888,
             "#fdca26"
            ],
            [
             1,
             "#f0f921"
            ]
           ]
          },
          "colorway": [
           "#636efa",
           "#EF553B",
           "#00cc96",
           "#ab63fa",
           "#FFA15A",
           "#19d3f3",
           "#FF6692",
           "#B6E880",
           "#FF97FF",
           "#FECB52"
          ],
          "font": {
           "color": "#2a3f5f"
          },
          "geo": {
           "bgcolor": "white",
           "lakecolor": "white",
           "landcolor": "#E5ECF6",
           "showlakes": true,
           "showland": true,
           "subunitcolor": "white"
          },
          "hoverlabel": {
           "align": "left"
          },
          "hovermode": "closest",
          "mapbox": {
           "style": "light"
          },
          "paper_bgcolor": "white",
          "plot_bgcolor": "#E5ECF6",
          "polar": {
           "angularaxis": {
            "gridcolor": "white",
            "linecolor": "white",
            "ticks": ""
           },
           "bgcolor": "#E5ECF6",
           "radialaxis": {
            "gridcolor": "white",
            "linecolor": "white",
            "ticks": ""
           }
          },
          "scene": {
           "xaxis": {
            "backgroundcolor": "#E5ECF6",
            "gridcolor": "white",
            "gridwidth": 2,
            "linecolor": "white",
            "showbackground": true,
            "ticks": "",
            "zerolinecolor": "white"
           },
           "yaxis": {
            "backgroundcolor": "#E5ECF6",
            "gridcolor": "white",
            "gridwidth": 2,
            "linecolor": "white",
            "showbackground": true,
            "ticks": "",
            "zerolinecolor": "white"
           },
           "zaxis": {
            "backgroundcolor": "#E5ECF6",
            "gridcolor": "white",
            "gridwidth": 2,
            "linecolor": "white",
            "showbackground": true,
            "ticks": "",
            "zerolinecolor": "white"
           }
          },
          "shapedefaults": {
           "line": {
            "color": "#2a3f5f"
           }
          },
          "ternary": {
           "aaxis": {
            "gridcolor": "white",
            "linecolor": "white",
            "ticks": ""
           },
           "baxis": {
            "gridcolor": "white",
            "linecolor": "white",
            "ticks": ""
           },
           "bgcolor": "#E5ECF6",
           "caxis": {
            "gridcolor": "white",
            "linecolor": "white",
            "ticks": ""
           }
          },
          "title": {
           "x": 0.05
          },
          "xaxis": {
           "automargin": true,
           "gridcolor": "white",
           "linecolor": "white",
           "ticks": "",
           "title": {
            "standoff": 15
           },
           "zerolinecolor": "white",
           "zerolinewidth": 2
          },
          "yaxis": {
           "automargin": true,
           "gridcolor": "white",
           "linecolor": "white",
           "ticks": "",
           "title": {
            "standoff": 15
           },
           "zerolinecolor": "white",
           "zerolinewidth": 2
          }
         }
        },
        "xaxis": {
         "anchor": "y",
         "domain": [
          0,
          1
         ],
         "title": {
          "text": "group"
         }
        },
        "yaxis": {
         "anchor": "x",
         "domain": [
          0,
          1
         ],
         "title": {
          "text": "percentage"
         }
        }
       }
      }
     },
     "metadata": {},
     "output_type": "display_data"
    }
   ],
   "source": [
    "# import plotly\n",
    "import plotly.graph_objects as go\n",
    "import plotly.express as px\n",
    "\n",
    "# Make an interactive graph, that shows the different target types ('targtype1_txt') for the groups of interest\n",
    "# Use percentages instead of absolute numbers\n",
    "# Use a stacked bar chart, use the categories \"Military\", \"Government (General)\", \"Police\", \"Private Citizens & Property\", \"Business\" and \"Other\"\n",
    "\n",
    "types = ['Military', 'Government (General)', 'Police', 'Private Citizens & Property', 'Business', 'Other']\n",
    "# Make a dataframe with the target types and the percentages\n",
    "target_types = pd.DataFrame(columns=['target_type', 'percentage', 'group'])\n",
    "for group in [taliban_attacks, mek_attacks, IRA_attacks]:\n",
    "    for type in types:\n",
    "        target_types = target_types.append({'target_type': type, 'percentage': len(group[group.targtype1_txt == type]) / len(group) * 100, 'group': group.gname.iloc[0]}, ignore_index=True)\n",
    "\n",
    "# Make a stacked bar chart, each bar represents a group, the different colors represent the different target types\n",
    "fig = px.bar(target_types, x=\"group\", y=\"percentage\", color=\"target_type\", barmode=\"stack\")\n",
    "fig.show()\n",
    "\n",
    "# Save the figure as a html file to display on a website, save in the folder 'plots'\n",
    "fig.write_html(\"../plots/group_target_types.html\")\n"
   ]
  },
  {
   "attachments": {},
   "cell_type": "markdown",
   "metadata": {},
   "source": [
    "### Ideas for plots\n",
    "\n",
    "* For each group, show how the number of attacks changed over time (ideally on a map?)\n"
   ]
  }
 ],
 "metadata": {
  "kernelspec": {
   "display_name": "ML",
   "language": "python",
   "name": "python3"
  },
  "language_info": {
   "codemirror_mode": {
    "name": "ipython",
    "version": 3
   },
   "file_extension": ".py",
   "mimetype": "text/x-python",
   "name": "python",
   "nbconvert_exporter": "python",
   "pygments_lexer": "ipython3",
   "version": "3.10.4"
  },
  "orig_nbformat": 4
 },
 "nbformat": 4,
 "nbformat_minor": 2
}
