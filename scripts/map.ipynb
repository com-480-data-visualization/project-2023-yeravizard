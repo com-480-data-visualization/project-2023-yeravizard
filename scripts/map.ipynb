{
 "cells": [
  {
   "attachments": {},
   "cell_type": "markdown",
   "metadata": {},
   "source": [
    "<h2><center><b><i>Cluster bomb</b></i>: Uncovering Patterns in Terrorist Group Beliefs and Attacks</center></h2>\n",
    "\n",
    "#### **COM-480: Data Visualization**\n",
    "\n",
    "**Team**: Alexander Sternfeld, Silvia Romanato & Antoine Bonnet\n",
    "\n",
    "**Dataset**: [Global Terrorism Database (GTD)](https://www.start.umd.edu/gtd/) \n",
    "\n",
    "**Additional dataset**: [Profiles of Perpetrators of Terrorism in the United States (PPTUS)](https://dataverse.harvard.edu/dataset.xhtml?persistentId=hdl%3A1902.1/17702)\n",
    "\n",
    "## **Maps**\n",
    " \n",
    "The goal of this notebook is to create the data underlying a world map of terrorist attacks. This data will then be used to generate an interactive map using [Kepler](https://kepler.gl), an open-source geospatial analysis tool for large-scale data sets. \n",
    "\n",
    "<center><p float=\"left\">\n",
    "  <img src=\"https://d1a3f4spazzrp4.cloudfront.net/kepler.gl/website/showcase/points-s.png\" width=\"400\" />\n",
    "  <img src=\"https://d1a3f4spazzrp4.cloudfront.net/kepler.gl/website/showcase/lines-s.png\" width=\"400\" /> \n",
    "  <img src=\"https://d1a3f4spazzrp4.cloudfront.net/kepler.gl/website/showcase/hexagons-s.png\" width=\"400\" />\n",
    "  <img src=\"https://d1a3f4spazzrp4.cloudfront.net/kepler.gl/website/showcase/heatmap-s.png\" width=\"400\" />\n",
    "</p></center>\n",
    "\n",
    "\n",
    "**Map 1**: A first map will display all locations of terrorist attacks from 1970 to today shown as dots on the world map. A time slider will be used to show the progression of terrorist attacks through time. \n",
    "\n",
    "**Map 2**: A second map will display arrows going from the base of operations of terrorist organizations to the location of terrorist attacks perpetrated by members of those organizations. Arrows will be colored depending on the ideology of each organization. \n",
    "\n",
    "## **Data pre-processing**\n",
    "\n",
    "### **Map 1**: Terrorist attacks \n",
    "\n",
    "From the GTD, we first create an `attacks.csv` file that displays each attack's location, date, number of casualties, attack type, target type and terrorist group. This file will be used as the basis for our first map. "
   ]
  },
  {
   "cell_type": "code",
   "execution_count": null,
   "metadata": {},
   "outputs": [],
   "source": [
    "import os\n",
    "import pandas as pd\n",
    "import numpy as np\n",
    "import matplotlib.pyplot as plt\n",
    "import seaborn as sns\n",
    "\n",
    "from load_data import *\n",
    "\n",
    "pd.set_option('display.max_columns', None)\n",
    "\n",
    "GTD = load_GTD()\n",
    "PPTUS, _ = load_PPTUS()\n",
    "\n",
    "MAP_DIR = os.path.join(DATA_DIR, 'maps')"
   ]
  },
  {
   "cell_type": "code",
   "execution_count": null,
   "metadata": {},
   "outputs": [],
   "source": [
    "# Create a datetime column by combining columns iyear, imonth, iday renaming them\n",
    "GTD.rename(columns={'iyear': 'year', 'imonth': 'month', 'iday': 'day'}, inplace=True)\n",
    "GTD['day'].replace(0, 1, inplace=True) # Some attacks only have year data, so we set them to January 1st \n",
    "GTD['month'].replace(0, 1, inplace=True)\n",
    "GTD['datetime'] = pd.to_datetime(GTD[['year', 'month', 'day']], errors='coerce') + pd.Timedelta(hours=12)\n",
    "\n",
    "# Keep only columns: datetime, country_txt, region_txt, latitude, longitude, nkill, attacktype1_txt, gname\n",
    "GTD = GTD[['datetime', 'city', 'country_txt', 'region_txt', 'latitude', 'longitude', 'nkill', 'attacktype1_txt', 'gname', 'targtype1_txt', 'weaptype1_txt']]\n",
    "\n",
    "# Drop rows with missing latitude, longitude\n",
    "GTD = GTD.dropna(subset=['latitude', 'longitude'])\n",
    "\n",
    "# Replace all Unknown values with nan\n",
    "GTD.replace('Unknown', np.nan, inplace=True)\n",
    "\n",
    "# Rename columns for display\n",
    "GTD = GTD.rename(columns={\n",
    "    'country_txt': 'Country', \n",
    "    'region_txt': 'Region', \n",
    "    'attacktype1_txt': 'Attack type',\n",
    "    'nkill': 'Fatalities',\n",
    "    'gname': 'Terrorist group', \n",
    "    'latitude': 'Latitude', \n",
    "    'longitude': 'Longitude', \n",
    "    'targtype1_txt': 'Target type', \n",
    "    'city': 'City', \n",
    "    'weaptype1_txt': 'Weapon used'})\n",
    "\n",
    "# Store file in csv format \n",
    "GTD.to_csv(os.path.join(MAP_DIR, 'attacks.csv'), index=False)\n",
    "GTD"
   ]
  },
  {
   "attachments": {},
   "cell_type": "markdown",
   "metadata": {},
   "source": [
    "### **Map 2**: Group to targets arcs\n",
    "\n",
    "This second map will focus on terrorist groups by drawing arcs from the group's country of origin to the locations of their terrorist attacks. We will then be able to see the geographical distribution of terrorist attacks for each group. \n",
    "\n",
    "#### Manual labelling \n",
    "\n",
    "To do this, we manually labelled the origin country of the top 200 groups with largest amount of fatalities in the file `top_groups.csv`. During the annotation, here were a few of the decisions that were made concerning specific groups: \n",
    "\n",
    "- **Allied Democratic Forces (ADF)** originated in Uganda but expanded to DRC (labelled Uganda)\n",
    "\n",
    "- **Sikh Extremists** (i.e. Khalistan movement) originates in Punjab region = Pakistan + India (labelled Pakistan)\n",
    "\n",
    "- **Tamils** population is mainly distributed in India, but also in Sri Lanka (labelled India)\n",
    "\n",
    "- **Kashmir** region crosses Pakistan, Indian and China (labelled India)\n",
    "\n",
    "- **Basque Fatherland and Freedom (ETA)** is Basque which is principally Spanish but also French (labelled Spain)\n",
    "\n",
    "- **Movement for Oneness and Jihad in West Africa** was active in both Algeria and Mali (labelled Algeria)\n",
    "\n",
    "- **Naga** people originate from a region split between India and Myanmar (labelled India)\n",
    "\n",
    "- The following groups were not affiliated to a particular location and so are removed from the maps: Muslim extremists, Islamist extremists, Separatists, Death Squad, Tribesmen, Muslim Militants, Gunmen, Narco-Terrorists, Rebels, Muslim Rebels, Muslims, Jihadi-inspired extremists, Protestant extremists, Right-Wing Death Squad, Communists, Muslim Separatists, Shia Muslim extremists, Sunni Muslim extremists, Mouhadine, Rebel Military Unit, Dissident Military Mmbrs of Northern Tribal Group, Moslem Activists, Anti-Government Guerrillas, Anti-Communist Vigilante Group, Muslim Fundamentalists, White supremacists/nationalists"
   ]
  },
  {
   "cell_type": "code",
   "execution_count": null,
   "metadata": {},
   "outputs": [],
   "source": [
    "# Find all group names in GTD sorted in decreasing number of total non-NA nkill\n",
    "GTD_bis = load_GTD()\n",
    "GTD_bis['gname'].replace('Unknown', np.nan).dropna()\n",
    "top_groups = GTD_bis[GTD_bis['gname'] != 'Unknown'].groupby('gname')['nkill'].sum(numeric_only=True).dropna().sort_values(ascending=False).reset_index()[:232]\n",
    "\n",
    "# Manual annotation of top 100 groups country of origin\n",
    "manual_locations = ['Afghanistan', 'Iraq', 'Nigeria', 'Somalia', 'Peru',\n",
    "                    'Sri Lanka', 'El Salvador', 'Yemen', 'Guatemala', \n",
    "                    'Pakistan', 'Nigeria', 'Colombia', 'Turkey', 'Philippines',\n",
    "                    'Iraq', 'Rwanda', 'Afghanistan', 'Afghanistan', 'Yemen', \n",
    "                    'Uganda', 'Syria', 'Uganda', 'Pakistan', 'Angola', 'India', \n",
    "                    'Mozambique', np.nan, 'Egypt', 'China', 'Colombia', 'South Sudan', \n",
    "                    'Nicaragua', 'Ireland', 'Iraq', 'Ukraine', 'Russian Federation',\n",
    "                    'India', 'Algeria', 'United States', 'Afghanistan', 'Lebanon', \n",
    "                    np.nan, 'Mali', np.nan, 'Pakistan', 'Mali', 'Rwanda', 'Algeria', \n",
    "                    'Palestine', 'Palestine', 'Philippines', 'Sri Lanka', 'Syria', \n",
    "                    'Spain', 'Central African Republic', np.nan, 'Congo DRC', \n",
    "                    'Ethiopia', 'Philippines', np.nan, np.nan, 'Nepal', 'Ethiopia', \n",
    "                    'South Africa', 'India', 'Philippines', 'Afghanistan', 'Algeria', \n",
    "                    'Nicaragua', 'Sudan', 'Guatemala', 'Peru', 'Libya', 'Algeria', \n",
    "                    'Sierra Leone', 'Sudan', 'Colombia', 'Palestine', 'Rwanda', 'Iran', \n",
    "                    'India', np.nan, 'Congo DRC', 'Yemen', np.nan, \n",
    "                    'Egypt', 'India', 'Bangladesh', 'Afghanistan', 'Nicaragua', \n",
    "                    'Syria', 'Central African Republic', 'Libya', 'Russian Federation', 'India', \n",
    "                    np.nan, 'India', np.nan, 'Colombia', 'Philippines', 'China', np.nan,\n",
    "                    'South Sudan', 'Pakistan', 'India', 'Northern Ireland', 'Ethiopia', \n",
    "                    'Cambodia', np.nan, 'South Africa', np.nan, 'Congo DRC', \n",
    "                    'Colombia', 'Indonesia', 'Iran', 'Palestine', 'Colombia', 'Palestine', \n",
    "                    'Central African Republic', 'Egypt', 'Syria', 'Yemen', np.nan, 'Syria', \n",
    "                    'Palestine', 'Nigeria', 'Lebanon', 'Syria', 'Guatemala', 'Palestine', \n",
    "                    np.nan, 'Mozambique', 'India', 'Tanzania', 'Sudan', 'India', np.nan,\n",
    "                    'Pakistan', 'Russian Federation', np.nan, 'India', 'Ethiopia', 'Palestine', 'Central African Republic',\n",
    "                    'Ethiopia', 'Pakistan', 'Nicaragua', 'Myanmar', 'Djibouti', 'Pakistan', 'Pakistan', \n",
    "                    'Senegal', 'Egypt', 'Russian Federation', 'Uganda', 'India', np.nan, 'Congo DRC',\n",
    "                    'Algeria', 'South Sudan', 'South Sudan', np.nan, 'India', 'Argentina', 'Algeria', \n",
    "                    'Syria', 'Pakistan', 'Colombia', 'Northern Ireland', 'Liberia', 'Russian Federation', \n",
    "                    'India', 'Serbia', 'Congo DRC', 'Colombia', \n",
    "                    'Lebanon', np.nan, np.nan, 'Palestine', np.nan, 'Syria', 'Iraq', 'Iraq', 'Nigeria', \n",
    "                    'Pakistan', 'Iran', 'Turkey', 'Mali', np.nan, 'Ethiopia', np.nan, 'Rwanda', \n",
    "                    'India', 'Myanmar', 'Palestine', 'Algeria', np.nan, 'Egypt', np.nan, \n",
    "                    'Myanmar', 'Libya', np.nan, 'India', 'Mali', np.nan, 'Zimbabwe', np.nan, \n",
    "                    'Pakistan', 'Pakistan', 'Indonesia', 'Uganda', 'Syria', 'India', 'Mali', \n",
    "                    'Yemen', np.nan, 'Iraq', np.nan, 'El Salvador', 'Indonesia', 'Turkey',\n",
    "                    'Myanmar', 'Libya', 'Iraq', 'Iraq', np.nan, 'Egypt', 'India',\n",
    "                    'Algeria', 'Guatemala', 'Mali', 'Yemen']\n",
    "\n",
    "# Add country of origin column\n",
    "top_groups['Country'] = manual_locations\n",
    "\n",
    "# Drop the nan countries\n",
    "top_groups = top_groups.dropna(subset=['Country'])\n",
    "top_groups = top_groups.rename(columns={'gname':'Group', 'nkill': 'Fatalities'})"
   ]
  },
  {
   "cell_type": "markdown",
   "metadata": {},
   "source": [
    "# "
   ]
  },
  {
   "attachments": {},
   "cell_type": "markdown",
   "metadata": {},
   "source": [
    "#### Country location\n",
    "\n",
    "To find the countries location on the map, we scrape the [World Countries Centroids](https://github.com/gavinr/world-countries-centroids) dataset. These locations denote the longitude and latitude of each country's centroid point. \n"
   ]
  },
  {
   "cell_type": "code",
   "execution_count": null,
   "metadata": {},
   "outputs": [],
   "source": [
    "# Get country locations csv from url \n",
    "locations_url = 'https://cdn.jsdelivr.net/gh/gavinr/world-countries-centroids@v1/dist/countries.csv'\n",
    "locations = pd.read_csv(locations_url, keep_default_na=False, na_values=['_'])\n",
    "locations.head()"
   ]
  },
  {
   "cell_type": "code",
   "execution_count": null,
   "metadata": {},
   "outputs": [],
   "source": [
    "# Print countries that have a missing location\n",
    "missing_countries = [country for country in manual_locations if country not in locations['COUNTRY'].values]\n",
    "print(set(missing_countries))"
   ]
  },
  {
   "attachments": {},
   "cell_type": "markdown",
   "metadata": {},
   "source": [
    "As special cases, Palestine and Northern Ireland are missing a location from the dataset. We manually add them to the `countries.csv` file."
   ]
  },
  {
   "cell_type": "code",
   "execution_count": null,
   "metadata": {},
   "outputs": [],
   "source": [
    "# Add row to locations for missing countries\n",
    "locations = locations.append({'longitude': 54.607577, 'latitude': -6.693145, 'COUNTRY': 'Northern Ireland', 'ISO': 'GB', 'COUNTRYAFF': 'United Kingdom', 'AFF_ISO': 'GBR'}, ignore_index=True)\n",
    "locations = locations.append({'longitude': 31.947351, 'latitude': 35.227163, 'COUNTRY': 'Palestine', 'ISO': 'PSE', 'COUNTRYAFF': 'Palestine', 'AFF_ISO': 'PSE'}, ignore_index=True)"
   ]
  },
  {
   "attachments": {},
   "cell_type": "markdown",
   "metadata": {},
   "source": [
    "#### Merging terrorist groups and their locations\n",
    "\n",
    "Now that we have country locations, we are going to merge the terrorist groups' country of origin to each country location. We will then have a longitude and latitude for each terrorist group. "
   ]
  },
  {
   "cell_type": "code",
   "execution_count": null,
   "metadata": {},
   "outputs": [],
   "source": [
    "# Add the longitude and latitude of each country by joining on Country name\n",
    "locations = locations.rename(columns={'COUNTRY': 'Country'})\n",
    "top_groups = top_groups.merge(locations[['Country', 'latitude', 'longitude']], on='Country', how='left')\n",
    "\n",
    "# Save top_groups to csv file\n",
    "top_groups = top_groups.rename(columns={'Group' : 'Terrorist group', 'latitude' : 'Group latitude', 'longitude' : 'Group longitude', 'Country' : 'Group origin'})\n",
    "top_groups.to_csv(os.path.join(MAP_DIR, 'top_groups.csv'), index=False)\n",
    "top_groups"
   ]
  },
  {
   "attachments": {},
   "cell_type": "markdown",
   "metadata": {},
   "source": [
    "#### Merging group locations with target locations\n",
    "\n",
    "We now merge the above groups locations to have source and target coordinates in order to draw arcs from a terrorist group's country of origin to the location of its targets. \n",
    "\n"
   ]
  },
  {
   "cell_type": "code",
   "execution_count": null,
   "metadata": {},
   "outputs": [],
   "source": [
    "# Add group location to GTD by joining on group name\n",
    "GTD = GTD.merge(top_groups[['Terrorist group', 'Group origin', 'Group latitude', 'Group longitude']], on='Terrorist group', how='left')\n",
    "\n",
    "# Remove all attacks without group location\n",
    "GTD = GTD.dropna(subset=['Group latitude', 'Group longitude'])\n",
    "print('Number of attacks with identified group location:', len(GTD))\n",
    " \n",
    "# Save to csv in group_attacks.csv\n",
    "GTD.to_csv(os.path.join(MAP_DIR, 'group_attacks.csv'), index=False)\n",
    "GTD\n",
    "\n"
   ]
  },
  {
   "attachments": {},
   "cell_type": "markdown",
   "metadata": {},
   "source": [
    "And we are now done preparing the data for the maps. Head over to our website to visualize them. "
   ]
  }
 ],
 "metadata": {
  "kernelspec": {
   "display_name": "Python 3",
   "language": "python",
   "name": "python3"
  },
  "language_info": {
   "codemirror_mode": {
    "name": "ipython",
    "version": 3
   },
   "file_extension": ".py",
   "mimetype": "text/x-python",
   "name": "python",
   "nbconvert_exporter": "python",
   "pygments_lexer": "ipython3",
   "version": "3.9.6"
  },
  "orig_nbformat": 4
 },
 "nbformat": 4,
 "nbformat_minor": 2
}
