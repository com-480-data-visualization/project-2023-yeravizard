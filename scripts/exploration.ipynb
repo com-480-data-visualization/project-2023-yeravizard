{
 "cells": [
  {
   "attachments": {},
   "cell_type": "markdown",
   "metadata": {},
   "source": [
    "<h2><center><b><i>Cluster bomb</b></i>: Uncovering Patterns in Terrorist Group Beliefs and Attacks</center></h2>\n",
    "\n",
    "#### **COM-480: Data Visualization**\n",
    "\n",
    "**Team**: Alexander Sternfeld, Silvia Romanato & Antoine Bonnet\n",
    "\n",
    "**Dataset**: [Global Terrorism Database (GTD)](https://www.start.umd.edu/gtd/) \n",
    "\n",
    "**Additional dataset**: [Profiles of Perpetrators of Terrorism in the United States (PPTUS)](https://dataverse.harvard.edu/dataset.xhtml?persistentId=hdl%3A1902.1/17702)\n",
    "\n",
    "## **Exploratory Data Analysis**\n",
    " "
   ]
  },
  {
   "cell_type": "code",
   "execution_count": 1,
   "metadata": {},
   "outputs": [],
   "source": [
    "import os\n",
    "import pandas as pd\n",
    "import numpy as np\n",
    "import matplotlib.pyplot as plt\n",
    "import seaborn as sns\n",
    "\n",
    "from load_data import *\n",
    "\n",
    "pd.set_option('display.max_columns', None)"
   ]
  },
  {
   "attachments": {},
   "cell_type": "markdown",
   "metadata": {},
   "source": [
    "## Part 1: Global Terrorism Database (GTD)\n",
    "\n",
    "### Loading the data\n",
    "\n",
    ">\n",
    "> **IMPORTANT**: To run our code, please [download the GTD files](https://www.start.umd.edu/gtd/contact/download) by filling out the form. After a few minutes, you will receive two data files `GTD1.xlsx` and `GTD2.xslx`.\n",
    ">\n",
    "> Also download the `PPT-US_0517dist.xlsx` file from [this link](https://dataverse.harvard.edu/dataset.xhtml?persistentId=hdl%3A1902.1/17702). Place all files in the `/data/raw` folder. "
   ]
  },
  {
   "cell_type": "code",
   "execution_count": null,
   "metadata": {},
   "outputs": [],
   "source": [
    "# NOTE: This takes about 3 minutes to run the first time\n",
    "GTD = load_GTD()\n",
    "\n",
    "GTD.head()"
   ]
  },
  {
   "attachments": {},
   "cell_type": "markdown",
   "metadata": {},
   "source": [
    "### 1. Number of attacks"
   ]
  },
  {
   "cell_type": "code",
   "execution_count": null,
   "metadata": {},
   "outputs": [],
   "source": [
    "# Plot distribution of column 'iyear'\n",
    "sns.histplot(GTD['iyear'])\n",
    "plt.xlabel('Year')\n",
    "plt.ylabel('Number of attacks')\n",
    "plt.show()\n"
   ]
  },
  {
   "attachments": {},
   "cell_type": "markdown",
   "metadata": {},
   "source": [
    "### 2. Geographic breakdown"
   ]
  },
  {
   "cell_type": "code",
   "execution_count": null,
   "metadata": {},
   "outputs": [],
   "source": [
    "# For each region, plot the number of attacks per year\n",
    "# create subplots\n",
    "fig, ax = plt.subplots(3, 4, figsize=(16, 10))\n",
    "# create a list of regions\n",
    "regions = GTD['region_txt'].unique()\n",
    "# create a list of axes\n",
    "axes = ax.flatten()\n",
    "# iterate over regions and axes\n",
    "for region, ax in zip(regions, axes):\n",
    "    # filter the data\n",
    "    GTD_region = GTD[GTD['region_txt'] == region]\n",
    "    # plot the data\n",
    "    sns.histplot(GTD_region['iyear'], ax=ax)\n",
    "    # set title\n",
    "    ax.set_title(region)\n",
    "fig.tight_layout()\n",
    "plt.show()\n",
    "\n"
   ]
  },
  {
   "cell_type": "code",
   "execution_count": null,
   "metadata": {},
   "outputs": [],
   "source": [
    "# Plot the top 20 countries with the most attacks, use column 'country_txt', and sort by the number of attacks, tilt x-axis labels by 90 degrees. THe number of attacks is the number of rows for each country\n",
    "# At the right hand side, do the same plot but with the 20 countries with the least attacks. The number of attacks is the number of rows for each country\n",
    "# make subplots\n",
    "fig, (ax1, ax2) = plt.subplots(1, 2, figsize=(15, 5))\n",
    "# remove attack with international as country\n",
    "GTD = GTD[GTD['country_txt'] != 'International']\n",
    "# plot top 20 countries with most attacks\n",
    "sns.barplot(x=GTD['country_txt'].value_counts().head(10).index,\n",
    "            y=GTD['country_txt'].value_counts().head(10).values, ax=ax1)\n",
    "ax1.set_xticklabels(ax1.get_xticklabels(), rotation=90)\n",
    "ax1.set_title('Top 10 countries with most attacks')\n",
    "# y axis label\n",
    "ax1.set_ylabel('Number of attacks')\n",
    "# plot top 20 countries with least attacks\n",
    "sns.barplot(x=GTD['country_txt'].value_counts().tail(10).index,\n",
    "            y=GTD['country_txt'].value_counts().tail(10).values, ax=ax2)\n",
    "ax2.set_xticklabels(ax2.get_xticklabels(), rotation=90)\n",
    "ax2.set_title('Top 10 countries with least attacks')\n",
    "# y axis label\n",
    "ax2.set_ylabel('Number of attacks')\n",
    "plt.show()\n"
   ]
  },
  {
   "attachments": {},
   "cell_type": "markdown",
   "metadata": {},
   "source": [
    "### Types of attacks"
   ]
  },
  {
   "cell_type": "code",
   "execution_count": null,
   "metadata": {},
   "outputs": [],
   "source": [
    "# For the top 5 overall weapons used, plot the number of attacks per year\n",
    "# in one plot, with a different line for each weapon. The plot should contain lines, not bars.\n",
    "# create a list of weapons\n",
    "weapons = GTD['weaptype1_txt'].value_counts().head(5).index\n",
    "# create a list of colors\n",
    "colors = ['red', 'blue', 'green', 'orange', 'purple']\n",
    "# create a figure\n",
    "fig, ax = plt.subplots(figsize=(8, 5))\n",
    "# iterate over weapons and colors\n",
    "for weapon, color in zip(weapons, colors):\n",
    "    # filter the data\n",
    "    GTD_weapon = GTD[GTD['weaptype1_txt'] == weapon]\n",
    "    # plot percentage of attacks per year that used this weapon, use a rolling average of 5 years\n",
    "    plt.plot((GTD_weapon['iyear'].value_counts().sort_index() / GTD['iyear'].value_counts().sort_index()).rolling(5).mean(), color=color)\n",
    "ax.legend(weapons, loc='center left', bbox_to_anchor=(1, 0.5))\n",
    "# add axis\n",
    "plt.xlabel('Year')\n",
    "plt.ylabel('Percentage of attacks')\n",
    "\n",
    "plt.show()\n"
   ]
  },
  {
   "cell_type": "code",
   "execution_count": null,
   "metadata": {},
   "outputs": [],
   "source": [
    "# Do the same plot as above, but now for the column 'attacktype1_txt', which contains the type of attack. The number of attacks is the number of rows for each attack type\n",
    "sns.barplot(x=GTD['attacktype1_txt'].value_counts().head(\n",
    "    20).index, y=GTD['attacktype1_txt'].value_counts().head(20).values)\n",
    "# title and y axis label\n",
    "plt.title('Top 20 attack types')\n",
    "plt.ylabel('Number of attacks')\n",
    "# tilt x-axis labels by 90 degrees\n",
    "plt.xticks(rotation=90)\n",
    "plt.show()"
   ]
  },
  {
   "attachments": {},
   "cell_type": "markdown",
   "metadata": {},
   "source": [
    "### Types of targets"
   ]
  },
  {
   "cell_type": "code",
   "execution_count": null,
   "metadata": {},
   "outputs": [],
   "source": [
    "# Do the same for the top 5 target types\n",
    "# create a list of target types\n",
    "targets = GTD['targtype1_txt'].value_counts().head(5).index\n",
    "# create a list of colors\n",
    "colors = ['red', 'blue', 'green', 'orange', 'purple']\n",
    "# create a figure\n",
    "fig, ax = plt.subplots(figsize=(8, 5))\n",
    "# iterate over target types and colors\n",
    "for target, color in zip(targets, colors):\n",
    "    # filter the data\n",
    "    GTD_target = GTD[GTD['targtype1_txt'] == target]\n",
    "    # plot the data, do not use sns lineplot\n",
    "    GTD_target.groupby('iyear')['iyear'].count().plot(ax=ax, color=color)\n",
    "# set title\n",
    "ax.set_title('Top 5 target types')\n",
    "# set x axis label and y axis label\n",
    "ax.set_xlabel('Year')\n",
    "ax.set_ylabel('Number of attacks')\n",
    "# add legend\n",
    "ax.legend(targets)\n",
    "plt.show()"
   ]
  },
  {
   "cell_type": "code",
   "execution_count": null,
   "metadata": {},
   "outputs": [],
   "source": [
    "# Do the same, but now for the column 'targtype1_txt', which contains the type of target. The number of attacks is the number of rows for each target type\n",
    "# On the right hand side, do it for the column 'targsubtype1_txt', which contains the subtype of target. The number of attacks is the number of rows for each target subtype\n",
    "# make subplots\n",
    "fig, (ax1, ax2) = plt.subplots(1, 2, figsize=(15, 5))\n",
    "# plot top 20 target types\n",
    "sns.barplot(x=GTD['targtype1_txt'].value_counts().head(20).index, y=GTD['targtype1_txt'].value_counts().head(20).values, ax=ax1)\n",
    "ax1.set_xticklabels(ax1.get_xticklabels(), rotation=90)\n",
    "ax1.set_title('Top 20 target types')\n",
    "# y axis label\n",
    "ax1.set_ylabel('Number of attacks')\n",
    "# plot top 20 target subtypes\n",
    "sns.barplot(x=GTD['targsubtype1_txt'].value_counts().head(20).index, y=GTD['targsubtype1_txt'].value_counts().head(20).values, ax=ax2)\n",
    "ax2.set_xticklabels(ax2.get_xticklabels(), rotation=90)\n",
    "ax2.set_title('Top 20 target subtypes')\n",
    "# y axis label\n",
    "ax2.set_ylabel('Number of attacks')\n",
    "plt.show()\n",
    "\n"
   ]
  },
  {
   "attachments": {},
   "cell_type": "markdown",
   "metadata": {},
   "source": [
    "### Motives"
   ]
  },
  {
   "cell_type": "code",
   "execution_count": null,
   "metadata": {},
   "outputs": [],
   "source": [
    "# the percentage of null motive with 2 decimal places\n",
    "print(\"The percentage of null motive is:\", round(\n",
    "    GTD['motive'].isnull().sum() / len(GTD) * 100, 2), \"%\")\n"
   ]
  },
  {
   "cell_type": "code",
   "execution_count": null,
   "metadata": {},
   "outputs": [],
   "source": [
    "from wordcloud import WordCloud\n",
    "\n",
    "# Make a wordcloud of the motives\n",
    "# create a list of motives\n",
    "motives = GTD['motive'].dropna().values.tolist()\n",
    "# create a string of motives\n",
    "motives = ' '.join(motives)\n",
    "# lower case all words\n",
    "motives = motives.lower()\n",
    "irrelevant_words = ['unknown', 'specific', 'claimed', 'responsibility', 'attack']\n",
    "# Remove irrelevant words\n",
    "for word in irrelevant_words:\n",
    "    motives = motives.replace(word, '')\n",
    "# create a wordcloud\n",
    "wordcloud = WordCloud(width=800, height=400, background_color='white').generate(motives)\n",
    "# plot the wordcloud\n",
    "plt.figure(figsize=(10, 5))\n",
    "plt.imshow(wordcloud)\n",
    "plt.axis('off')\n",
    "plt.show()\n",
    "\n"
   ]
  },
  {
   "attachments": {},
   "cell_type": "markdown",
   "metadata": {},
   "source": [
    "### Terrorist groups"
   ]
  },
  {
   "cell_type": "code",
   "execution_count": null,
   "metadata": {},
   "outputs": [],
   "source": [
    "# the number of groups in the dataset\n",
    "print(\"The number of groups is:\", GTD['gname'].nunique())\n",
    "# the number of groups with more than 1000 attacks\n",
    "print(\"The number of groups with more than 1000 attacks:\", GTD['gname'].value_counts()[GTD['gname'].value_counts() > 1000].count())"
   ]
  },
  {
   "cell_type": "code",
   "execution_count": null,
   "metadata": {},
   "outputs": [],
   "source": [
    "# plot the distribution of attacks per group\n",
    "fig, ax = plt.subplots(figsize=(8, 5))\n",
    "# plot the log-log of the number of attacks per group\n",
    "sns.histplot(GTD['gname'].value_counts(), log_scale=(True, True), ax=ax)\n",
    "ax.set_xlabel('Number of attacks')\n",
    "ax.set_ylabel('Number of groups')\n",
    "plt.show()"
   ]
  },
  {
   "cell_type": "code",
   "execution_count": null,
   "metadata": {},
   "outputs": [],
   "source": [
    "# Plot the 10 largest groups in terms of number of attacks\n",
    "# In one barplot\n",
    "\n",
    "# create a dataframe with the number of attacks per group\n",
    "GTD_group = GTD['gname'].value_counts().to_frame()\n",
    "# rename the column\n",
    "GTD_group.rename(columns={'gname': 'number_of_attacks'}, inplace=True)\n",
    "# reset the index\n",
    "GTD_group.reset_index(inplace=True)\n",
    "# rename the columns\n",
    "GTD_group.rename(columns={'index': 'group_name'}, inplace=True)\n",
    "# plot the top 10 groups\n",
    "sns.barplot(x='group_name', y='number_of_attacks', data=GTD_group.head(10))\n",
    "# tilt x-axis labels by 90 degrees\n",
    "plt.xticks(rotation=90)\n",
    "plt.show()\n",
    "\n"
   ]
  },
  {
   "cell_type": "code",
   "execution_count": null,
   "metadata": {},
   "outputs": [],
   "source": [
    "top_10_groups = GTD.groupby('gname').count()['eventid'].sort_values()[-10:].index\n",
    "print('The top 20 groups are:', list(top_10_groups))"
   ]
  },
  {
   "cell_type": "code",
   "execution_count": null,
   "metadata": {},
   "outputs": [],
   "source": [
    "# plot the most commot attack type for each group\n",
    "fig, ax = plt.subplots(1, 1, figsize=(15, 5))\n",
    "sns.countplot(x='gname', hue='attacktype1_txt', data=GTD[GTD['gname'].isin(top_10_groups)], ax=ax)\n",
    "ax.set_xticklabels(ax.get_xticklabels(), rotation=90)\n",
    "ax.set_title('Most common attack type for each group')\n",
    "plt.show()"
   ]
  },
  {
   "attachments": {},
   "cell_type": "markdown",
   "metadata": {},
   "source": [
    "## Part 2: Profiles of Perpetrators of Terrorism in the United States"
   ]
  },
  {
   "cell_type": "code",
   "execution_count": 2,
   "metadata": {},
   "outputs": [
    {
     "name": "stdout",
     "output_type": "stream",
     "text": [
      "PPTUS pickle files found, loading...\n"
     ]
    }
   ],
   "source": [
    "# NOTE: This takes about __ minutes to run the first time\n",
    "PPTUS_data, PPTUS_sources = load_PPTUS()"
   ]
  },
  {
   "cell_type": "code",
   "execution_count": null,
   "metadata": {},
   "outputs": [],
   "source": [
    "PPTUS_data.head()"
   ]
  },
  {
   "cell_type": "code",
   "execution_count": null,
   "metadata": {},
   "outputs": [],
   "source": [
    "PPTUS_sources.head()"
   ]
  },
  {
   "cell_type": "code",
   "execution_count": null,
   "metadata": {},
   "outputs": [],
   "source": []
  }
 ],
 "metadata": {
  "kernelspec": {
   "display_name": "ML",
   "language": "python",
   "name": "python3"
  },
  "language_info": {
   "codemirror_mode": {
    "name": "ipython",
    "version": 3
   },
   "file_extension": ".py",
   "mimetype": "text/x-python",
   "name": "python",
   "nbconvert_exporter": "python",
   "pygments_lexer": "ipython3",
   "version": "3.9.6"
  },
  "orig_nbformat": 4,
  "vscode": {
   "interpreter": {
    "hash": "645a45bafa7a70bf663118869c5a8c62ee426a479322e8202ebe39ad8b921733"
   }
  }
 },
 "nbformat": 4,
 "nbformat_minor": 2
}
