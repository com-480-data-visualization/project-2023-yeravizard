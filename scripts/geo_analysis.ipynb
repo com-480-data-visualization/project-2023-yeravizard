{
 "cells": [
  {
   "attachments": {},
   "cell_type": "markdown",
   "metadata": {},
   "source": [
    "<h2><center><b><i>Cluster bomb</b></i>: Uncovering Patterns in Terrorist Group Beliefs and Attacks</center></h2>\n",
    "\n",
    "#### **COM-480: Data Visualization**\n",
    "\n",
    "**Team**: Alexander Sternfeld, Silvia Romanato & Antoine Bonnet\n",
    "\n",
    "**Dataset**: [Global Terrorism Database (GTD)](https://www.start.umd.edu/gtd/) \n",
    "\n",
    "**Additional dataset**: [Profiles of Perpetrators of Terrorism in the United States (PPTUS)](https://dataverse.harvard.edu/dataset.xhtml?persistentId=hdl%3A1902.1/17702)\n",
    "\n",
    "## **Geographical analysis**\n",
    " "
   ]
  },
  {
   "cell_type": "code",
   "execution_count": null,
   "metadata": {},
   "outputs": [],
   "source": [
    "import os\n",
    "import pandas as pd\n",
    "import numpy as np\n",
    "import matplotlib.pyplot as plt\n",
    "import seaborn as sns\n",
    "import plotly.express as px\n",
    "\n",
    "from load_data import *\n",
    "\n",
    "pd.set_option('display.max_columns', None)\n",
    "\n",
    "GTD = load_GTD()\n",
    "PPTUS_data, PPTUS_sources = load_PPTUS()"
   ]
  },
  {
   "attachments": {},
   "cell_type": "markdown",
   "metadata": {},
   "source": [
    "## Prepare the datasets"
   ]
  },
  {
   "cell_type": "code",
   "execution_count": null,
   "metadata": {},
   "outputs": [],
   "source": [
    "df_orig = GTD.copy()\n",
    "df_orig.head()\n",
    "\n",
    "df_ppt_DATA = PPTUS_data.copy()\n",
    "df_ppt_SOURCES = PPTUS_sources.copy()"
   ]
  },
  {
   "cell_type": "code",
   "execution_count": null,
   "metadata": {},
   "outputs": [],
   "source": [
    "# Rename some of the columns\n",
    "df_ppt_DATA.rename(columns={'DOM_I': 'dominant_ideology', 'I_ETHNO': 'ethno_nationalist',  'I_REL': 'religious', 'I_RACE':  'racist',\n",
    "                            'I_LEFT': 'extreme_left' , 'I_RIGHT':  'extreme_right', 'G_POL_1':  'politic_reasons', 'G_SOC_1':  'social_reasons',\n",
    "                            'G_ECO_1': 'economic_reasons', 'G_REL_1':  'religious_reasons'}, inplace=True)\n"
   ]
  },
  {
   "cell_type": "code",
   "execution_count": null,
   "metadata": {},
   "outputs": [],
   "source": [
    "# Merge PPTUS and GTD \n",
    "df = df_ppt_DATA[['ORGNAME', 'dominant_ideology']].merge(df_orig, left_on='ORGNAME', right_on='gname', how= 'right')\n",
    "print(df.shape)\n",
    "\n",
    "df = df[df['dominant_ideology'].notnull()]\n",
    "print(df.shape)"
   ]
  },
  {
   "attachments": {},
   "cell_type": "markdown",
   "metadata": {},
   "source": [
    "## MAP OF THE DISTRIBUTION OF THE ATTACKS PER GROUPS OVER THE YEAR\n",
    "\n",
    "- You choose the group/year and you can display the distribution over the globe.\n",
    "- Can be done for the top 30 groups and include a slide for the group.\n",
    "- Can be done for all the groups over the years\n",
    "- PROBLEMS: HOW TO DISPLAY THE GROUPS AND IDENTIFY THEM, SHOULD WE DO A SELECTION? <br>\n",
    "<br>\n",
    "\n",
    "The example where  you choose the year and the color represents the dominant ideolgy."
   ]
  },
  {
   "attachments": {},
   "cell_type": "markdown",
   "metadata": {},
   "source": [
    "THE DOMINANT IDEOLOGY CATEOGRIES: <br>\n",
    "-99= Uncertainty/conflicting information exists in available data<br> \n",
    "1= Extreme Right Wing (including all racist ideologies)<br>\n",
    "2= Extreme Left Wing<br>\n",
    "3= Religious<br>\n",
    "4= Ethno-nationalist/Separatist<br>\n",
    "5= Single Issue<br>"
   ]
  },
  {
   "cell_type": "code",
   "execution_count": null,
   "metadata": {},
   "outputs": [],
   "source": [
    "fig = px.scatter_geo(df, lat = 'latitude', lon = 'longitude', color=\"dominant_ideology\", animation_frame = 'iyear', projection=\"natural earth\")\n",
    "fig.show()"
   ]
  },
  {
   "attachments": {},
   "cell_type": "markdown",
   "metadata": {},
   "source": [
    "the example done for the top 30 groups:"
   ]
  },
  {
   "cell_type": "code",
   "execution_count": null,
   "metadata": {},
   "outputs": [],
   "source": [
    "top_groups = df['gname'].value_counts().head(30).index\n",
    "df_top = df[df['gname'].isin(top_groups)]"
   ]
  },
  {
   "cell_type": "code",
   "execution_count": null,
   "metadata": {},
   "outputs": [],
   "source": [
    "fig = px.scatter_geo(df_top, lat = 'latitude', lon = 'longitude', color=\"iyear\", animation_frame = 'gname', projection=\"natural earth\")\n",
    "\n",
    "fig.show()"
   ]
  },
  {
   "attachments": {},
   "cell_type": "markdown",
   "metadata": {},
   "source": [
    "## MAP OF THE DISTRIBUTION PER IDEOLOGY\n",
    "- Not over the years because it’s not very informative, but we can take the dominant ideology category that is found in the PPT_US dataset and plot the distribution over the map.\n",
    "- PROBLEM: from 214666 datapoint we reduce them to 7131."
   ]
  },
  {
   "cell_type": "code",
   "execution_count": null,
   "metadata": {},
   "outputs": [],
   "source": [
    "df_orig.gname"
   ]
  },
  {
   "attachments": {},
   "cell_type": "markdown",
   "metadata": {},
   "source": [
    "## MAP THE FLOW OF OF THE GROUP ATTACKS\n",
    "- There is the Location of Headquarters in the PPT_US map and we plot the line.\n",
    "- PROBLEM: little data points.\n"
   ]
  },
  {
   "cell_type": "code",
   "execution_count": null,
   "metadata": {},
   "outputs": [],
   "source": [
    "loc_cols = [col for col in df_ppt_DATA.columns if col.startswith('LOC_HQ')]\n",
    "df_ppt_DATA.LOC_HQ_COUNTRY_1.unique()"
   ]
  },
  {
   "cell_type": "code",
   "execution_count": null,
   "metadata": {},
   "outputs": [],
   "source": [
    "df_ppt_DATA.LOC_HQ_COUNTRY_1\n",
    "# REPLACE -99 VALUES WITH NAN\n",
    "df_ppt_DATA[loc_cols] = df_ppt_DATA[loc_cols].replace(-99, np.nan).replace(4, 'Afghanistan').replace(228, 'Yemen').replace(217, 'United States').replace(110, 'Lebanon').replace(102, 'Jordan')\n",
    "df_ppt_DATA[loc_cols] = df_ppt_DATA[loc_cols].replace(603, 'United Kingdom').replace(95, 'Iraq').replace(69, 'France').replace(153, 'Pakistan').replace(87, 'Haiti')\n",
    "df_ppt_DATA.LOC_HQ_COUNTRY_1.unique()"
   ]
  },
  {
   "cell_type": "code",
   "execution_count": null,
   "metadata": {},
   "outputs": [],
   "source": [
    "# import countries.csv as a df where you can find the coordinates of the centroid  of a state\n",
    "df_countries = pd.read_csv('data/countries.csv')\n",
    "df_countries.rename(columns={'longitude': 'hqlon', 'latitude': 'hqlat'}, inplace=True)"
   ]
  },
  {
   "cell_type": "code",
   "execution_count": null,
   "metadata": {},
   "outputs": [],
   "source": [
    "df_countries = df_ppt_DATA[['LOC_HQ_COUNTRY_1']].merge(df_countries, left_on='LOC_HQ_COUNTRY_1', right_on='COUNTRY', how='left')[['LOC_HQ_COUNTRY_1', 'hqlon', 'hqlat']]\n",
    "df_ppt_DATA = df_countries.merge(df_ppt_DATA, on='LOC_HQ_COUNTRY_1', how = 'inner')\n",
    "df = df_ppt_DATA[['ORGNAME', 'LOC_HQ_COUNTRY_1', 'hqlon', 'hqlat']].merge(df, left_on='ORGNAME', right_on='gname', how= 'inner')\n",
    "df.head()"
   ]
  },
  {
   "cell_type": "code",
   "execution_count": null,
   "metadata": {},
   "outputs": [],
   "source": [
    "# get dataframe where hqlon is not null\n",
    "df = df[df['hqlon'].notnull()]\n",
    "df = df[df['longitude'].notnull()]\n",
    "\n",
    "df.reset_index(inplace=True, drop=True)"
   ]
  },
  {
   "cell_type": "code",
   "execution_count": null,
   "metadata": {},
   "outputs": [],
   "source": [
    "\"\"\"fig.add_trace(go.Scattergeo(\n",
    "    locationmode = 'USA-states',\n",
    "    lon = df['longitude'],\n",
    "    lat = df['latitude'],\n",
    "    #hoverinfo = 'text',\n",
    "    #text = df_airports['airport'],\n",
    "    mode = 'markers',\n",
    "    marker = dict(\n",
    "        size = 2,\n",
    "        color = 'rgb(255, 0, 0)',\n",
    "        line = dict(\n",
    "            width = 3,\n",
    "            color = 'rgba(68, 68, 68, 0)'\n",
    "        )\n",
    "    )))\"\"\""
   ]
  },
  {
   "cell_type": "code",
   "execution_count": null,
   "metadata": {},
   "outputs": [],
   "source": [
    "# reduce the df only to dominant ideology == 1\n",
    "df_dom1 = df[df['dominant_ideology'] == 2]\n",
    "df_dom1.reset_index(inplace=True, drop=True)"
   ]
  },
  {
   "cell_type": "code",
   "execution_count": null,
   "metadata": {},
   "outputs": [],
   "source": [
    "import plotly.graph_objects as go\n",
    "\n",
    "fig = go.Figure()\n",
    "\n",
    "flight_paths = []\n",
    "for i in range(len(df_dom1.hqlon)):\n",
    "    fig.add_trace(\n",
    "        go.Scattergeo(\n",
    "            lon = [df_dom1['hqlon'][i], df_dom1['longitude'][i]],\n",
    "            lat = [df_dom1['hqlat'][i], df_dom1['latitude'][i]],\n",
    "            mode = 'lines',\n",
    "            line = dict(width = 1,color = 'red'),\n",
    "            #opacity = float(df_flight_paths['cnt'][i]) / float(df_flight_paths['cnt'].max()),\n",
    "        )\n",
    "    )\n",
    "\n",
    "fig.update_layout(\n",
    "    title_text = 'The lines between the HQ of the attack and the attack location for dominant ideology extreme left wing',\n",
    "    showlegend = False,\n",
    "    geo = dict(\n",
    "        scope = 'world',\n",
    "        projection_type = 'equirectangular',\n",
    "        showland = True,\n",
    "        landcolor = 'rgb(243, 243, 243)',\n",
    "        countrycolor = 'rgb(204, 204, 204)',\n",
    "        showcountries=True,\n",
    "    ),\n",
    ")\n",
    "\n",
    "fig.show() "
   ]
  }
 ],
 "metadata": {
  "kernelspec": {
   "display_name": "silviasenv",
   "language": "python",
   "name": "python3"
  },
  "language_info": {
   "codemirror_mode": {
    "name": "ipython",
    "version": 3
   },
   "file_extension": ".py",
   "mimetype": "text/x-python",
   "name": "python",
   "nbconvert_exporter": "python",
   "pygments_lexer": "ipython3",
   "version": "3.9.13"
  },
  "orig_nbformat": 4
 },
 "nbformat": 4,
 "nbformat_minor": 2
}
