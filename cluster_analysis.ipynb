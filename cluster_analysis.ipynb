{
 "cells": [
  {
   "attachments": {},
   "cell_type": "markdown",
   "metadata": {},
   "source": [
    "<h2><center><b><i>Cluster bomb</b></i>: Uncovering Patterns in Terrorist Group Beliefs and Attacks</center></h2>\n",
    "\n",
    "#### **COM-480: Data Visualization**\n",
    "\n",
    "**Team**: Alexander Sternfeld, Silvia Romanato & Antoine Bonnet\n",
    "\n",
    "**Dataset**: [Global Terrorism Database (GTD)](https://www.start.umd.edu/gtd/) \n",
    "\n",
    "**Additional dataset**: [Profiles of Perpetrators of Terrorism in the United States (PPTUS)](https://dataverse.harvard.edu/dataset.xhtml?persistentId=hdl%3A1902.1/17702)\n",
    "\n",
    "## Cluster analysis\n",
    " "
   ]
  },
  {
   "cell_type": "code",
   "execution_count": null,
   "metadata": {},
   "outputs": [],
   "source": [
    "import os\n",
    "import pandas as pd\n",
    "import numpy as np\n",
    "import matplotlib.pyplot as plt\n",
    "import seaborn as sns\n",
    "\n",
    "pd.set_option('display.max_columns', None)"
   ]
  },
  {
   "attachments": {},
   "cell_type": "markdown",
   "metadata": {},
   "source": [
    "### 1. Loading the data\n",
    "\n",
    "> To run our code, please [download the dataset](https://www.start.umd.edu/gtd/contact/download) by filling out the form. After a few minutes, you will receive two data files `GTD1.xlsx` and `GTD2.xslx`. Place both files in the `/data` folder."
   ]
  },
  {
   "cell_type": "code",
   "execution_count": null,
   "metadata": {},
   "outputs": [],
   "source": [
    "# If the data is already combined, read it\n",
    "if os.path.exists('data/GTD.pkl'):\n",
    "    df = pd.read_pickle('data/GTD.pkl')\n",
    "    \n",
    "# Otherwise read both files and combine them\n",
    "elif os.path.exists('data/GTD1.xlsx') and os.path.exists('data/GTD2.xlsx'):\n",
    "    # Read data, ignore unicode errors\n",
    "    df_1 = pd.read_excel('data/GTD1.xlsx')\n",
    "    df_2 = pd.read_excel('data/GTD2.xlsx')\n",
    "    # Append the two dataframes and save in a serialized format\n",
    "    df = df_1.append(df_2)\n",
    "    df.to_pickle('data/GTD.pkl')\n",
    "\n",
    "    df_3 = pd.read_excel('data/PPT-US_0517dist.xlsx')\n",
    "    df_3.to_pickle('data/PPTUS.pkl')\n",
    "else:\n",
    "    print('Data not found, please put data in data folder')"
   ]
  },
  {
   "cell_type": "markdown",
   "metadata": {},
   "source": []
  }
 ],
 "metadata": {
  "kernelspec": {
   "display_name": "Python 3",
   "language": "python",
   "name": "python3"
  },
  "language_info": {
   "name": "python",
   "version": "3.9.6"
  },
  "orig_nbformat": 4
 },
 "nbformat": 4,
 "nbformat_minor": 2
}
